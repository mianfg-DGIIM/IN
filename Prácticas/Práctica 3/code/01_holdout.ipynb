{
 "cells": [
  {
   "cell_type": "markdown",
   "metadata": {},
   "source": [
    "# Intento 1 (_holdout_)\n",
    "\n",
    "| Score | Estimación _holdout_ | Timestamp |\n",
    "| --- | --- | --- |\n",
    "| **0.8589** | 0.8622 | 2021-12-31 02:08:12 UTC |\n",
    "\n",
    "- Uso de LightGBM.\n",
    "- Estrategia de preprocesado básica."
   ]
  },
  {
   "cell_type": "code",
   "execution_count": 87,
   "metadata": {},
   "outputs": [],
   "source": [
    "import pandas as pd\n",
    "import numpy as np\n",
    "import time\n",
    "from sklearn.model_selection import KFold, train_test_split\n",
    "from sklearn.metrics import roc_auc_score\n",
    "from sklearn.multioutput import MultiOutputClassifier\n",
    "import lightgbm as lgb\n",
    "\n",
    "# código común\n",
    "import common.preprocessing as pre\n",
    "from common.vars import SEED\n",
    "\n",
    "# display all columns\n",
    "pd.options.display.max_columns = None"
   ]
  },
  {
   "cell_type": "code",
   "execution_count": 88,
   "metadata": {},
   "outputs": [],
   "source": [
    "train_features = pd.read_csv('../data/flu_training_set_features.csv', index_col='respondent_id')\n",
    "train_labels = pd.read_csv('../data/flu_training_set_labels.csv', index_col='respondent_id')\n",
    "test_features = pd.read_csv('../data/flu_test_set_features.csv', index_col='respondent_id')"
   ]
  },
  {
   "cell_type": "code",
   "execution_count": 89,
   "metadata": {},
   "outputs": [],
   "source": [
    "def preprocess(df_train, df_test, pre_onehot=True):\n",
    "  \"\"\"PREPROCESAMIENTO\n",
    "  \"\"\"\n",
    "  _df_train = df_train.copy()\n",
    "  _df_test = df_test.copy()\n",
    "  # antes de realizar one-hot encoding, eliminamos los valores perdidos de atributos categóricos\n",
    "  # lo haremos imputando a la clase mayoritaria (mode)\n",
    "  if pre_onehot:\n",
    "    attrs_imp = ['race', 'employment_status', 'census_msa', 'hhs_geo_region', 'employment_industry', 'employment_occupation']\n",
    "    _df_train = pre.impute(_df_train, strategy='mode', attrs=attrs_imp)\n",
    "    _df_test = pre.impute(_df_test, strategy='mode', attrs=attrs_imp)\n",
    "  \n",
    "  # discretizamos estas columnas asignando un valor discreto cualquiera, secuencialmente\n",
    "  # (hacemos la labor de LabelEncoder para los atributos)\n",
    "  for attr in df_train.columns:\n",
    "    _df_train, discrete_dict = pre.trans_discretize(_df_train, attr)\n",
    "    # añadimos las mismas claves que df_train\n",
    "    _df_test = pre.trans_discretize(_df_test, attr, discrete_dict)\n",
    "  \n",
    "  # VALORES PERDIDOS\n",
    "  # del resto de atributos, imputamos la mediana (median)\n",
    "  _df_train = pre.impute(_df_train, strategy='median')\n",
    "  _df_test = pre.impute(_df_test, strategy='median')\n",
    "  \n",
    "  return _df_train, _df_test"
   ]
  },
  {
   "cell_type": "code",
   "execution_count": 90,
   "metadata": {},
   "outputs": [],
   "source": [
    "train_features, test_features = preprocess(train_features, test_features)"
   ]
  },
  {
   "cell_type": "code",
   "execution_count": 98,
   "metadata": {},
   "outputs": [],
   "source": [
    "kf = KFold(n_splits=5, shuffle=True, random_state=SEED)\n",
    "\n",
    "def cross_validation(model, X, y, cv):\n",
    "  measures = []\n",
    "  time_total_0 = time.time()\n",
    "\n",
    "  for train, test in cv.split(X, y):\n",
    "    X_train = X.iloc[train, :].values\n",
    "    X_test = X.iloc[test, :].values\n",
    "    y_train = y.iloc[train, :].values\n",
    "    y_test = y.iloc[test, :].values\n",
    "    time_iter_0 = time.time()\n",
    "    _model = model.fit(X_train, y_train)\n",
    "    time_iter = time.time() - time_iter_0\n",
    "    preds = _model.predict_proba(X_test)\n",
    "    y_preds = pd.DataFrame(\n",
    "      {\n",
    "        'h1n1_vaccine':     preds[0][:,1],\n",
    "        'seasonal_vaccine': preds[1][:,1],\n",
    "      },\n",
    "      index = y.iloc[test,:].index\n",
    "    )\n",
    "    measure = roc_auc_score(y_test, y_preds)\n",
    "    print(f\"[CV] AUC score: {measure:.4f}. Time: {time_iter:6.2f}\")\n",
    "    measures.append(measure)\n",
    "  \n",
    "  time_total = time.time() - time_total_0\n",
    "  print(f\"[CV] Average AUC: {np.mean(measures):.4f}. Total time: {time_total:6.2f}\")\n",
    "  return model, y_preds\n",
    "\n",
    "def preds_to_df(preds, features):\n",
    "  return pd.DataFrame(\n",
    "    {\n",
    "      'h1n1_vaccine': preds[0][:,1],\n",
    "      'seasonal_vaccine': preds[1][:,1]\n",
    "    },\n",
    "    index = features.index\n",
    "  )"
   ]
  },
  {
   "cell_type": "markdown",
   "metadata": {},
   "source": [
    "### _Holdout_ como proxy de ROC en test"
   ]
  },
  {
   "cell_type": "code",
   "execution_count": 92,
   "metadata": {},
   "outputs": [],
   "source": [
    "# split train features in two\n",
    "X_train, X_test, y_train, y_test = train_test_split(train_features, train_labels, test_size=0.2, random_state=SEED)"
   ]
  },
  {
   "cell_type": "code",
   "execution_count": 93,
   "metadata": {},
   "outputs": [
    {
     "name": "stdout",
     "output_type": "stream",
     "text": [
      "[CV] AUC score: 0.8631. Time:   0.83\n",
      "[CV] AUC score: 0.8652. Time:   1.07\n",
      "[CV] AUC score: 0.8544. Time:   1.05\n",
      "[CV] AUC score: 0.8494. Time:   1.11\n",
      "[CV] AUC score: 0.8679. Time:   1.17\n",
      "[CV] Average AUC: 0.8600. Total time:   5.72\n"
     ]
    }
   ],
   "source": [
    "# LightGBM\n",
    "lgbm = lgb.LGBMClassifier(objective='binary', n_estimators=200)\n",
    "multi_lgbm = MultiOutputClassifier(lgbm)\n",
    "lgbm_cvd, y_preds_lgbm = cross_validation(multi_lgbm, X_train, y_train, kf)"
   ]
  },
  {
   "cell_type": "code",
   "execution_count": 94,
   "metadata": {},
   "outputs": [],
   "source": [
    "# aprendemos con todos los ejemplos\n",
    "lgbm_cvd = lgbm_cvd.fit(X_train, y_train)\n",
    "# aplicamos probabilidad\n",
    "lgbm_preds = lgbm_cvd.predict_proba(X_test)"
   ]
  },
  {
   "cell_type": "code",
   "execution_count": 97,
   "metadata": {},
   "outputs": [
    {
     "data": {
      "text/plain": [
       "0.8621941060149647"
      ]
     },
     "execution_count": 97,
     "metadata": {},
     "output_type": "execute_result"
    }
   ],
   "source": [
    "roc_auc_score(y_test, preds_to_df(lgbm_preds, X_test))"
   ]
  },
  {
   "cell_type": "markdown",
   "metadata": {},
   "source": [
    "### Submission"
   ]
  },
  {
   "cell_type": "code",
   "execution_count": 99,
   "metadata": {},
   "outputs": [
    {
     "name": "stdout",
     "output_type": "stream",
     "text": [
      "[CV] AUC score: 0.8622. Time:   1.82\n",
      "[CV] AUC score: 0.8638. Time:   2.00\n",
      "[CV] AUC score: 0.8614. Time:   1.71\n",
      "[CV] AUC score: 0.8648. Time:   1.99\n",
      "[CV] AUC score: 0.8610. Time:   1.68\n",
      "[CV] Average AUC: 0.8626. Total time:   9.96\n"
     ]
    }
   ],
   "source": [
    "# LightGBM\n",
    "lgbm = lgb.LGBMClassifier(objective='binary', n_estimators=200)\n",
    "multi_lgbm = MultiOutputClassifier(lgbm)\n",
    "lgbm_cvd, y_preds_lgbm = cross_validation(multi_lgbm, train_features, train_labels, kf)"
   ]
  },
  {
   "cell_type": "code",
   "execution_count": 100,
   "metadata": {},
   "outputs": [],
   "source": [
    "# aprendemos con todos los ejemplos\n",
    "lgbm_cvd = lgbm_cvd.fit(train_features, train_labels)\n",
    "# aplicamos probabilidad\n",
    "lgbm_preds = lgbm_cvd.predict_proba(test_features)"
   ]
  },
  {
   "cell_type": "code",
   "execution_count": 101,
   "metadata": {},
   "outputs": [],
   "source": [
    "#preds_to_df(lgbm_preds, test_features).to_csv('../submissions/01.csv', index=False)"
   ]
  }
 ],
 "metadata": {
  "interpreter": {
   "hash": "03469d2279380861effdb539faa94366dad91bf8bac57f21af88f53ab829405b"
  },
  "kernelspec": {
   "display_name": "Python 3.8.8 64-bit ('base': conda)",
   "language": "python",
   "name": "python3"
  },
  "language_info": {
   "codemirror_mode": {
    "name": "ipython",
    "version": 3
   },
   "file_extension": ".py",
   "mimetype": "text/x-python",
   "name": "python",
   "nbconvert_exporter": "python",
   "pygments_lexer": "ipython3",
   "version": "3.8.8"
  },
  "orig_nbformat": 4
 },
 "nbformat": 4,
 "nbformat_minor": 2
}
