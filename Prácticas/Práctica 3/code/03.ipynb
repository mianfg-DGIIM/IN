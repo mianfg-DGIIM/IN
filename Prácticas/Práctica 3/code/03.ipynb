{
 "cells": [
  {
   "cell_type": "markdown",
   "metadata": {},
   "source": [
    "# Intento 3\n",
    "\n",
    "| Score | Timestamp |\n",
    "| --- | --- |\n",
    "| **0.8412** | 2021-12-31 02:09:09 UTC |\n",
    "\n",
    "- Cambio de `n_estimators` de LightGBM a 50."
   ]
  },
  {
   "cell_type": "code",
   "execution_count": 1,
   "metadata": {},
   "outputs": [],
   "source": [
    "import pandas as pd\n",
    "import numpy as np\n",
    "import time\n",
    "from sklearn.model_selection import KFold\n",
    "from sklearn.metrics import roc_auc_score\n",
    "from sklearn.multioutput import MultiOutputClassifier\n",
    "import lightgbm as lgb\n",
    "\n",
    "# código común\n",
    "import common.preprocessing as pre\n",
    "from common.vars import SEED\n",
    "\n",
    "# display all columns\n",
    "pd.options.display.max_columns = None"
   ]
  },
  {
   "cell_type": "code",
   "execution_count": 2,
   "metadata": {},
   "outputs": [],
   "source": [
    "train_features = pd.read_csv('../data/flu_training_set_features.csv')\n",
    "train_labels = pd.read_csv('../data/flu_training_set_labels.csv')\n",
    "test_features = pd.read_csv('../data/flu_test_set_features.csv')"
   ]
  },
  {
   "cell_type": "code",
   "execution_count": 3,
   "metadata": {},
   "outputs": [],
   "source": [
    "# no usamos el respondent_id\n",
    "train_features.drop(labels=['respondent_id'], axis=1, inplace=True)\n",
    "train_labels.drop(labels=['respondent_id'], axis=1, inplace=True)\n",
    "test_features.drop(labels=['respondent_id'], axis=1, inplace=True)"
   ]
  },
  {
   "cell_type": "code",
   "execution_count": 4,
   "metadata": {},
   "outputs": [],
   "source": [
    "def preprocess(df_train, df_test, pre_onehot=True):\n",
    "  \"\"\"PREPROCESAMIENTO\n",
    "  \"\"\"\n",
    "  _df_train = df_train.copy()\n",
    "  _df_test = df_test.copy()\n",
    "  # antes de realizar one-hot encoding, eliminamos los valores perdidos de atributos categóricos\n",
    "  # lo haremos imputando a la clase mayoritaria (mode)\n",
    "  if pre_onehot:\n",
    "    attrs_imp = ['race', 'employment_status', 'census_msa', 'hhs_geo_region', 'employment_industry', 'employment_occupation']\n",
    "    _df_train = pre.impute(_df_train, strategy='mode', attrs=attrs_imp)\n",
    "    _df_test = pre.impute(_df_test, strategy='mode', attrs=attrs_imp)\n",
    "  \n",
    "  def trans(df):\n",
    "    df = pre.trans_onehot(df, 'race')\n",
    "    df = pre.trans_onehot(df, 'employment_status')\n",
    "    df = pre.trans_onehot(df, 'census_msa')\n",
    "    df = pre.trans_discretize(df, 'age_group', {\n",
    "      '18 - 34 Years':  1,\n",
    "      '35 - 44 Years':  2,\n",
    "      '45 - 54 Years':  3,\n",
    "      '55 - 64 Years':  4,\n",
    "      '65+ Years':      5\n",
    "    })\n",
    "    df = pre.trans_discretize(df, 'education', {\n",
    "      '< 12 Years':       1,\n",
    "      '12 Years':         2,\n",
    "      'Some College':     3,\n",
    "      'College Graduate': 4\n",
    "    })\n",
    "    df = pre.trans_discretize(df, 'sex', {\n",
    "      'Male':   0,\n",
    "      'Female': 1\n",
    "    })\n",
    "    df = pre.trans_discretize(df, 'income_poverty', {\n",
    "      'Below Poverty':              1,\n",
    "      '<= $75,000, Above Poverty':  2,\n",
    "      '> $75,000':                  3\n",
    "    })\n",
    "    df = pre.trans_discretize(df, 'marital_status', {\n",
    "      'Not Married':  0,\n",
    "      'Married':      1\n",
    "    })\n",
    "    df = pre.trans_discretize(df, 'rent_or_own', {\n",
    "      'Rent': 0,\n",
    "      'Own':  1\n",
    "    })\n",
    "    return df\n",
    "  _df_test = trans(_df_test)\n",
    "  _df_train = trans(_df_train)\n",
    "\n",
    "  # discretizamos estas columnas asignando un valor discreto cualquiera, secuencialmente\n",
    "  # (hacemos la labor de LabelEncoder para los atributos)\n",
    "  for attr in ['hhs_geo_region', 'employment_industry', 'employment_occupation']:\n",
    "    _df_train, discrete_dict = pre.trans_discretize(_df_train, attr)\n",
    "    # añadimos las mismas claves que df_train\n",
    "    _df_test = pre.trans_discretize(_df_test, attr, discrete_dict)\n",
    "  \n",
    "  # VALORES PERDIDOS\n",
    "  # del resto de atributos, imputamos la mediana (median)\n",
    "  _df_train = pre.impute(_df_train, strategy='median')\n",
    "  _df_test = pre.impute(_df_test, strategy='median')\n",
    "  \n",
    "  return _df_train, _df_test"
   ]
  },
  {
   "cell_type": "code",
   "execution_count": 5,
   "metadata": {},
   "outputs": [],
   "source": [
    "train_features, test_features = preprocess(train_features, test_features)"
   ]
  },
  {
   "cell_type": "code",
   "execution_count": 6,
   "metadata": {},
   "outputs": [],
   "source": [
    "kf = KFold(n_splits=5, shuffle=True, random_state=SEED)\n",
    "\n",
    "def cross_validation(model, X, y, cv):\n",
    "  measures = []\n",
    "  time_total_0 = time.time()\n",
    "\n",
    "  for train, test in cv.split(X, y):\n",
    "    X_train = X.loc[train, :].values\n",
    "    X_test = X.loc[test, :].values\n",
    "    y_train = y.loc[train, :].values\n",
    "    y_test = y.loc[test, :].values\n",
    "    time_iter_0 = time.time()\n",
    "    _model = model.fit(X_train, y_train)\n",
    "    time_iter = time.time() - time_iter_0\n",
    "    preds = _model.predict_proba(X_test)\n",
    "    y_preds = pd.DataFrame(\n",
    "      {\n",
    "        'h1n1_vaccine':     preds[0][:,1],\n",
    "        'seasonal_vaccine': preds[1][:,1],\n",
    "      },\n",
    "      index = y.loc[test,:].index\n",
    "    )\n",
    "    measure = roc_auc_score(y_test, y_preds)\n",
    "    print(f\"[CV] AUC score: {measure:.4f}. Time: {time_iter:6.2f}\")\n",
    "    measures.append(measure)\n",
    "  \n",
    "  time_total = time.time() - time_total_0\n",
    "  print(f\"[CV] Average AUC: {np.mean(measures):.4f}. Total time: {time_total:6.2f}\")\n",
    "  return model, y_preds\n",
    "\n",
    "def compile_submission(preds, route):\n",
    "  df_submission = pd.read_csv('../data/submission_format.csv')\n",
    "  y_test_preds = pd.DataFrame(\n",
    "    {\n",
    "      'h1n1_vaccine': preds[0][:,1],\n",
    "      'seasonal_vaccine': preds[1][:,1]\n",
    "    },\n",
    "    index = df_submission.index\n",
    "  )\n",
    "  df_submission['h1n1_vaccine'] = y_test_preds.h1n1_vaccine\n",
    "  df_submission['seasonal_vaccine'] = y_test_preds.seasonal_vaccine\n",
    "  df_submission.to_csv(route, index=False)"
   ]
  },
  {
   "cell_type": "code",
   "execution_count": 7,
   "metadata": {},
   "outputs": [
    {
     "name": "stdout",
     "output_type": "stream",
     "text": [
      "[CV] AUC score: 0.8542. Time:   0.37\n",
      "[CV] AUC score: 0.8521. Time:   0.40\n",
      "[CV] AUC score: 0.8443. Time:   0.34\n",
      "[CV] AUC score: 0.8520. Time:   0.39\n",
      "[CV] AUC score: 0.8475. Time:   0.37\n",
      "[CV] Average AUC: 0.8500. Total time:   2.14\n"
     ]
    }
   ],
   "source": [
    "# LightGBM\n",
    "lgbm = lgb.LGBMClassifier(objective='binary', n_estimators=50)\n",
    "multi_lgbm = MultiOutputClassifier(lgbm)\n",
    "lgbm_cvd, y_preds_lgbm = cross_validation(multi_lgbm, train_features, train_labels, kf)"
   ]
  },
  {
   "cell_type": "code",
   "execution_count": 8,
   "metadata": {},
   "outputs": [],
   "source": [
    "# aprendemos con todos los ejemplos\n",
    "lgbm_cvd = lgbm_cvd.fit(train_features, train_labels)\n",
    "# aplicamos probabilidad\n",
    "lgbm_preds = lgbm_cvd.predict_proba(test_features)"
   ]
  },
  {
   "cell_type": "code",
   "execution_count": 9,
   "metadata": {},
   "outputs": [],
   "source": [
    "compile_submission(lgbm_preds, '../submissions/03.csv')"
   ]
  }
 ],
 "metadata": {
  "interpreter": {
   "hash": "03469d2279380861effdb539faa94366dad91bf8bac57f21af88f53ab829405b"
  },
  "kernelspec": {
   "display_name": "Python 3.8.8 64-bit ('base': conda)",
   "language": "python",
   "name": "python3"
  },
  "language_info": {
   "codemirror_mode": {
    "name": "ipython",
    "version": 3
   },
   "file_extension": ".py",
   "mimetype": "text/x-python",
   "name": "python",
   "nbconvert_exporter": "python",
   "pygments_lexer": "ipython3",
   "version": "3.8.8"
  },
  "orig_nbformat": 4
 },
 "nbformat": 4,
 "nbformat_minor": 2
}
