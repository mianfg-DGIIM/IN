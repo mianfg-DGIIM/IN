{
 "cells": [
  {
   "cell_type": "markdown",
   "metadata": {},
   "source": [
    "# Intento 5\n",
    "\n",
    "| Score | Estimación _holdout_ | Timestamp |\n",
    "| --- | --- | --- |\n",
    "| **0.8592** | 0.8647 | 2022-01-01 22:16:44 UTC |\n",
    "\n",
    "- Uso de `StratifiedKFold`."
   ]
  },
  {
   "cell_type": "code",
   "execution_count": 1,
   "metadata": {},
   "outputs": [],
   "source": [
    "import pandas as pd\n",
    "import numpy as np\n",
    "import time\n",
    "from sklearn.model_selection import StratifiedKFold, train_test_split\n",
    "from sklearn.metrics import roc_auc_score\n",
    "from sklearn.preprocessing import LabelEncoder\n",
    "from sklearn.impute import SimpleImputer\n",
    "from sklearn.base import clone\n",
    "import lightgbm as lgb\n",
    "\n",
    "# código común\n",
    "import common.preprocessing as pre\n",
    "from common.vars import SEED\n",
    "\n",
    "# display all columns\n",
    "pd.options.display.max_columns = None"
   ]
  },
  {
   "cell_type": "code",
   "execution_count": 2,
   "metadata": {},
   "outputs": [],
   "source": [
    "train_features = pd.read_csv('../data/flu_training_set_features.csv', index_col='respondent_id')\n",
    "train_labels = pd.read_csv('../data/flu_training_set_labels.csv', index_col='respondent_id')\n",
    "test_features = pd.read_csv('../data/flu_test_set_features.csv', index_col='respondent_id')"
   ]
  },
  {
   "cell_type": "code",
   "execution_count": 3,
   "metadata": {},
   "outputs": [],
   "source": [
    "def preprocess(train_features, test_features):\n",
    "  \"\"\"PREPROCESAMIENTO\n",
    "  \"\"\"\n",
    "  labels = {}\n",
    "  imp = SimpleImputer(missing_values=np.nan, strategy='most_frequent')\n",
    "  _train_features = train_features.astype(str)\n",
    "  # uso SimpleImputer para \"eliminar los nulos\", como elimina los nombres de las columnas los ponemos de nuevo\n",
    "  _train_features = pd.DataFrame(imp.fit_transform(_train_features), index=train_features.index)\n",
    "  _train_features.columns = train_features.columns\n",
    "\n",
    "  _all = pd.concat([train_features, test_features])\n",
    "\n",
    "  # aprendo las etiquetas\n",
    "  for col in _all.columns:\n",
    "    labels[col] = LabelEncoder()\n",
    "    labels[col].fit(_all[col].astype(str))\n",
    "  \n",
    "  # aplico el etiquetado\n",
    "  for col in _train_features.columns:\n",
    "    _train_features[col] = labels[col].transform(_train_features[col])\n",
    "  \n",
    "  _test_features = test_features.astype(str)\n",
    "  _test_features = pd.DataFrame(imp.transform(_test_features), index=test_features.index)\n",
    "  _test_features.columns = test_features.columns\n",
    "\n",
    "  # aplico el mismo etiquetado con los valores de test\n",
    "  for col in _test_features.columns:\n",
    "    _test_features[col] = labels[col].transform(_test_features[col])\n",
    "  \n",
    "  return _train_features, _test_features"
   ]
  },
  {
   "cell_type": "code",
   "execution_count": 4,
   "metadata": {},
   "outputs": [],
   "source": [
    "train_features, test_features = preprocess(train_features, test_features)"
   ]
  },
  {
   "cell_type": "code",
   "execution_count": 5,
   "metadata": {},
   "outputs": [],
   "source": [
    "skf = StratifiedKFold(n_splits=5, shuffle=True, random_state=SEED)\n",
    "\n",
    "def cross_validation_mono(model, X, y, cv, attr):\n",
    "  measures = []\n",
    "  time_total_0 = time.time()\n",
    "\n",
    "  for train, test in cv.split(X, y[attr]):\n",
    "    X_train = X.iloc[train, :]\n",
    "    X_test = X.iloc[test, :]\n",
    "    y_train = y[attr].iloc[train].values\n",
    "    y_test = y[attr].iloc[test].values\n",
    "    time_iter_0 = time.time()\n",
    "    _model = model.fit(X_train, y_train)\n",
    "    time_iter = time.time() - time_iter_0\n",
    "    preds = _model.predict_proba(X_test)\n",
    "    y_preds = pd.DataFrame(\n",
    "      {\n",
    "        attr: preds[:,1]\n",
    "      },\n",
    "      index = y[attr].iloc[test].index\n",
    "    )\n",
    "    measure = roc_auc_score(y_test, y_preds)\n",
    "    print(f\"[CV] AUC score: {measure:.4f}. Time: {time_iter:6.2f}\")\n",
    "    measures.append(measure)\n",
    "  \n",
    "  time_total = time.time() - time_total_0\n",
    "  print(f\"[CV] Average AUC: {np.mean(measures):.4f}. Total time: {time_total:6.2f}\")\n",
    "  return {\n",
    "    'model':        model,\n",
    "    'y_preds':      y_preds,\n",
    "    'measures':     measures,\n",
    "    'avg_measure':  np.mean(measures)\n",
    "  }\n",
    "\n",
    "def preds_to_df(preds, features):\n",
    "  return pd.DataFrame(\n",
    "    {\n",
    "      'h1n1_vaccine': preds[0][:,1],\n",
    "      'seasonal_vaccine': preds[1][:,1]\n",
    "    },\n",
    "    index = features.index\n",
    "  )"
   ]
  },
  {
   "cell_type": "markdown",
   "metadata": {},
   "source": [
    "### _Holdout_ como proxy de ROC en test"
   ]
  },
  {
   "cell_type": "code",
   "execution_count": 6,
   "metadata": {},
   "outputs": [],
   "source": [
    "# split train features in two\n",
    "X_train, X_test, y_train, y_test = train_test_split(train_features, train_labels, test_size=0.2, random_state=SEED)"
   ]
  },
  {
   "cell_type": "code",
   "execution_count": 7,
   "metadata": {},
   "outputs": [
    {
     "name": "stdout",
     "output_type": "stream",
     "text": [
      "h1n1_vaccine\n",
      "[CV] AUC score: 0.8606. Time:   0.32\n",
      "[CV] AUC score: 0.8619. Time:   0.33\n",
      "[CV] AUC score: 0.8708. Time:   0.46\n",
      "[CV] AUC score: 0.8679. Time:   0.58\n",
      "[CV] AUC score: 0.8607. Time:   0.42\n",
      "[CV] Average AUC: 0.8644. Total time:   2.33\n",
      "\n",
      "seasonal_vaccine\n",
      "[CV] AUC score: 0.8615. Time:   0.44\n",
      "[CV] AUC score: 0.8486. Time:   0.51\n",
      "[CV] AUC score: 0.8604. Time:   0.43\n",
      "[CV] AUC score: 0.8565. Time:   0.55\n",
      "[CV] AUC score: 0.8583. Time:   0.43\n",
      "[CV] Average AUC: 0.8571. Total time:   2.60\n"
     ]
    }
   ],
   "source": [
    "# LightGBM\n",
    "lgbm_h1n1 = lgb.LGBMClassifier(objective='binary', n_estimators=200)\n",
    "lgbm_seasonal = lgb.LGBMClassifier(objective='binary', n_estimators=200)\n",
    "print(\"h1n1_vaccine\")\n",
    "lgbm_h1n1_result = cross_validation_mono(lgbm_h1n1, X_train, y_train, skf, 'h1n1_vaccine')\n",
    "print(\"\\nseasonal_vaccine\")\n",
    "lgbm_seasonal_result = cross_validation_mono(lgbm_seasonal, X_train, y_train, skf, 'seasonal_vaccine')"
   ]
  },
  {
   "cell_type": "code",
   "execution_count": 8,
   "metadata": {},
   "outputs": [],
   "source": [
    "# aprendemos con todos los ejemplos\n",
    "lgbm_h1n1_result_model = lgbm_h1n1_result['model'].fit(X_train, y_train['h1n1_vaccine'])\n",
    "# aplicamos probabilidad\n",
    "h1n1_preds = lgbm_h1n1_result_model.predict_proba(X_test)"
   ]
  },
  {
   "cell_type": "code",
   "execution_count": 9,
   "metadata": {},
   "outputs": [],
   "source": [
    "# aprendemos con todos los ejemplos\n",
    "lgbm_seasonal_result_model = lgbm_seasonal_result['model'].fit(X_train, y_train['seasonal_vaccine'])\n",
    "# aplicamos probabilidad\n",
    "seasonal_preds = lgbm_seasonal_result_model.predict_proba(X_test)"
   ]
  },
  {
   "cell_type": "code",
   "execution_count": 10,
   "metadata": {},
   "outputs": [
    {
     "data": {
      "text/plain": [
       "0.8646884663508434"
      ]
     },
     "execution_count": 10,
     "metadata": {},
     "output_type": "execute_result"
    }
   ],
   "source": [
    "roc_auc_score(y_test, preds_to_df([h1n1_preds, seasonal_preds], X_test))"
   ]
  },
  {
   "cell_type": "markdown",
   "metadata": {},
   "source": [
    "### Submission"
   ]
  },
  {
   "cell_type": "code",
   "execution_count": 11,
   "metadata": {},
   "outputs": [
    {
     "name": "stdout",
     "output_type": "stream",
     "text": [
      "h1n1_vaccine\n",
      "[CV] AUC score: 0.8660. Time:   0.36\n",
      "[CV] AUC score: 0.8671. Time:   0.48\n",
      "[CV] AUC score: 0.8653. Time:   0.62\n",
      "[CV] AUC score: 0.8525. Time:   0.46\n",
      "[CV] AUC score: 0.8776. Time:   0.54\n",
      "[CV] Average AUC: 0.8657. Total time:   2.71\n",
      "\n",
      "seasonal_vaccine\n",
      "[CV] AUC score: 0.8634. Time:   0.54\n",
      "[CV] AUC score: 0.8653. Time:   0.51\n",
      "[CV] AUC score: 0.8597. Time:   0.55\n",
      "[CV] AUC score: 0.8528. Time:   0.47\n",
      "[CV] AUC score: 0.8614. Time:   0.79\n",
      "[CV] Average AUC: 0.8605. Total time:   3.11\n"
     ]
    }
   ],
   "source": [
    "# LightGBM\n",
    "lgbm_h1n1 = lgb.LGBMClassifier(objective='binary', n_estimators=200)\n",
    "lgbm_seasonal = lgb.LGBMClassifier(objective='binary', n_estimators=200)\n",
    "print(\"h1n1_vaccine\")\n",
    "lgbm_h1n1_result = cross_validation_mono(lgbm_h1n1, train_features, train_labels, skf, 'h1n1_vaccine')\n",
    "print(\"\\nseasonal_vaccine\")\n",
    "lgbm_seasonal_result = cross_validation_mono(lgbm_seasonal, train_features, train_labels, skf, 'seasonal_vaccine')"
   ]
  },
  {
   "cell_type": "code",
   "execution_count": 12,
   "metadata": {},
   "outputs": [],
   "source": [
    "# aprendemos con todos los ejemplos\n",
    "lgbm_h1n1_result_model = lgbm_h1n1_result['model'].fit(train_features, train_labels['h1n1_vaccine'])\n",
    "# aplicamos probabilidad\n",
    "h1n1_preds = lgbm_h1n1_result_model.predict_proba(test_features)"
   ]
  },
  {
   "cell_type": "code",
   "execution_count": 13,
   "metadata": {},
   "outputs": [],
   "source": [
    "# aprendemos con todos los ejemplos\n",
    "lgbm_seasonal_result_model = lgbm_seasonal_result['model'].fit(train_features, train_labels['seasonal_vaccine'])\n",
    "# aplicamos probabilidad\n",
    "seasonal_preds = lgbm_seasonal_result_model.predict_proba(test_features)"
   ]
  },
  {
   "cell_type": "code",
   "execution_count": 14,
   "metadata": {},
   "outputs": [],
   "source": [
    "preds_to_df([h1n1_preds, seasonal_preds], test_features).to_csv('../submissions/05.csv')"
   ]
  }
 ],
 "metadata": {
  "interpreter": {
   "hash": "03469d2279380861effdb539faa94366dad91bf8bac57f21af88f53ab829405b"
  },
  "kernelspec": {
   "display_name": "Python 3.8.8 64-bit ('base': conda)",
   "language": "python",
   "name": "python3"
  },
  "language_info": {
   "codemirror_mode": {
    "name": "ipython",
    "version": 3
   },
   "file_extension": ".py",
   "mimetype": "text/x-python",
   "name": "python",
   "nbconvert_exporter": "python",
   "pygments_lexer": "ipython3",
   "version": "3.8.8"
  },
  "orig_nbformat": 4
 },
 "nbformat": 4,
 "nbformat_minor": 2
}
