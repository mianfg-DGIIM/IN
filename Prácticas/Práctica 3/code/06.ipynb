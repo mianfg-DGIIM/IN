{
 "cells": [
  {
   "cell_type": "markdown",
   "metadata": {},
   "source": [
    "# Intento 6\n",
    "\n",
    "| Score | Estimación _holdout_ | Timestamp |\n",
    "| --- | --- | --- |\n",
    "| **0.8622** | 0.8693 | 2022-01-02 00:33:48 UTC |\n",
    "\n",
    "- _Hyperparameter tuning_."
   ]
  },
  {
   "cell_type": "code",
   "execution_count": 1,
   "metadata": {},
   "outputs": [],
   "source": [
    "import pandas as pd\n",
    "import numpy as np\n",
    "import time\n",
    "from itertools import product\n",
    "from sklearn.model_selection import KFold, train_test_split\n",
    "from sklearn.metrics import roc_auc_score\n",
    "from sklearn.multioutput import MultiOutputClassifier\n",
    "from sklearn.preprocessing import LabelEncoder\n",
    "from sklearn.impute import SimpleImputer\n",
    "import lightgbm as lgb\n",
    "\n",
    "# código común\n",
    "import common.preprocessing as pre\n",
    "from common.vars import SEED\n",
    "\n",
    "# display all columns\n",
    "pd.options.display.max_columns = None"
   ]
  },
  {
   "cell_type": "code",
   "execution_count": 2,
   "metadata": {},
   "outputs": [],
   "source": [
    "train_features = pd.read_csv('../data/flu_training_set_features.csv', index_col='respondent_id')\n",
    "train_labels = pd.read_csv('../data/flu_training_set_labels.csv', index_col='respondent_id')\n",
    "test_features = pd.read_csv('../data/flu_test_set_features.csv', index_col='respondent_id')"
   ]
  },
  {
   "cell_type": "code",
   "execution_count": 3,
   "metadata": {},
   "outputs": [],
   "source": [
    "def preprocess(train_features, test_features):\n",
    "  \"\"\"PREPROCESAMIENTO\n",
    "  \"\"\"\n",
    "  labels = {}\n",
    "  imp = SimpleImputer(missing_values=np.nan, strategy='most_frequent')\n",
    "  _train_features = train_features.astype(str)\n",
    "  # uso SimpleImputer para \"eliminar los nulos\", como elimina los nombres de las columnas los ponemos de nuevo\n",
    "  _train_features = pd.DataFrame(imp.fit_transform(_train_features), index=train_features.index)\n",
    "  _train_features.columns = train_features.columns\n",
    "\n",
    "  _all = pd.concat([train_features, test_features])\n",
    "\n",
    "  # aprendo las etiquetas\n",
    "  for col in _all.columns:\n",
    "    labels[col] = LabelEncoder()\n",
    "    labels[col].fit(_all[col].astype(str))\n",
    "  \n",
    "  # aplico el etiquetado\n",
    "  for col in _train_features.columns:\n",
    "    _train_features[col] = labels[col].transform(_train_features[col])\n",
    "  \n",
    "  _test_features = test_features.astype(str)\n",
    "  _test_features = pd.DataFrame(imp.transform(_test_features), index=test_features.index)\n",
    "  _test_features.columns = test_features.columns\n",
    "\n",
    "  # aplico el mismo etiquetado con los valores de test\n",
    "  for col in _test_features.columns:\n",
    "    _test_features[col] = labels[col].transform(_test_features[col])\n",
    "  \n",
    "  return _train_features, _test_features"
   ]
  },
  {
   "cell_type": "code",
   "execution_count": 4,
   "metadata": {},
   "outputs": [],
   "source": [
    "train_features, test_features = preprocess(train_features, test_features)"
   ]
  },
  {
   "cell_type": "code",
   "execution_count": 5,
   "metadata": {},
   "outputs": [],
   "source": [
    "kf = KFold(n_splits=5, shuffle=True, random_state=SEED)\n",
    "\n",
    "def cross_validation(model, X, y, cv):\n",
    "  measures = []\n",
    "  time_total_0 = time.time()\n",
    "\n",
    "  for train, test in cv.split(X, y):\n",
    "    X_train = X.iloc[train, :].values\n",
    "    X_test = X.iloc[test, :].values\n",
    "    y_train = y.iloc[train, :].values\n",
    "    y_test = y.iloc[test, :].values\n",
    "    time_iter_0 = time.time()\n",
    "    _model = model.fit(X_train, y_train)\n",
    "    time_iter = time.time() - time_iter_0\n",
    "    preds = _model.predict_proba(X_test)\n",
    "    y_preds = pd.DataFrame(\n",
    "      {\n",
    "        'h1n1_vaccine':     preds[0][:,1],\n",
    "        'seasonal_vaccine': preds[1][:,1],\n",
    "      },\n",
    "      index = y.iloc[test,:].index\n",
    "    )\n",
    "    measure = roc_auc_score(y_test, y_preds)\n",
    "    print(f\"[CV] AUC score: {measure:.4f}. Time: {time_iter:6.2f}\")\n",
    "    measures.append(measure)\n",
    "  \n",
    "  time_total = time.time() - time_total_0\n",
    "  print(f\"[CV] Average AUC: {np.mean(measures):.4f}. Total time: {time_total:6.2f}\")\n",
    "  return model, y_preds\n",
    "\n",
    "def preds_to_df(preds, features):\n",
    "  return pd.DataFrame(\n",
    "    {\n",
    "      'h1n1_vaccine': preds[0][:,1],\n",
    "      'seasonal_vaccine': preds[1][:,1]\n",
    "    },\n",
    "    index = features.index\n",
    "  )"
   ]
  },
  {
   "cell_type": "markdown",
   "metadata": {},
   "source": [
    "### _Holdout_ como proxy de ROC en test"
   ]
  },
  {
   "cell_type": "code",
   "execution_count": 6,
   "metadata": {},
   "outputs": [],
   "source": [
    "def holdout_proxy(model, X, y, test_size=0.2):\n",
    "  # split train features in two\n",
    "  X_train, X_test, y_train, y_test = train_test_split(X, y, test_size=test_size, random_state=SEED)\n",
    "\n",
    "  model_cvd, _ = cross_validation(model, X_train, y_train, kf)\n",
    "\n",
    "  # aprendemos con todos los ejemplos\n",
    "  model_cvd = model_cvd.fit(X_train, y_train)\n",
    "  # aplicamos probabilidad\n",
    "  preds = model_cvd.predict_proba(X_test)\n",
    "\n",
    "  return roc_auc_score(y_test, preds_to_df(preds, X_test))"
   ]
  },
  {
   "cell_type": "code",
   "execution_count": 7,
   "metadata": {},
   "outputs": [],
   "source": [
    "def proxy_search(search_space, model_lambda, X, y, test_size=0.2):\n",
    "  space = (dict(zip(search_space.keys(), values)) for values in product(*search_space.values()))\n",
    "  n = len(list(product(*search_space.values())))\n",
    "  results = []\n",
    "  i = 1\n",
    "  for params in space:\n",
    "    print(f\"[Proxy Search] ({i} of {n}) Searching with params {params}\")\n",
    "    model = model_lambda(params)\n",
    "    roc_auc = holdout_proxy(model, X, y, test_size=test_size)\n",
    "    results.append({\n",
    "      'params': params,\n",
    "      'roc_auc': roc_auc\n",
    "    })\n",
    "    i += 1\n",
    "  \n",
    "  return results"
   ]
  },
  {
   "cell_type": "code",
   "execution_count": 8,
   "metadata": {},
   "outputs": [],
   "source": [
    "lgbm_multi_lambda = lambda params: MultiOutputClassifier(lgb.LGBMClassifier(objective='binary', **params))"
   ]
  },
  {
   "cell_type": "code",
   "execution_count": 9,
   "metadata": {},
   "outputs": [],
   "source": [
    "search_space = {\n",
    "  'n_estimators': [50, 200],\n",
    "  'colsample_bytree': [i/10.0 for i in range(3, 6)],\n",
    "  'learning_rate': [0.05, 0.1],\n",
    "  'num_leaves': [30, 50]\n",
    "}"
   ]
  },
  {
   "cell_type": "code",
   "execution_count": 12,
   "metadata": {},
   "outputs": [
    {
     "name": "stdout",
     "output_type": "stream",
     "text": [
      "[Proxy Search] (1 of 24) Searching with params {'n_estimators': 50, 'colsample_bytree': 0.3, 'learning_rate': 0.05, 'num_leaves': 30}\n",
      "[CV] AUC score: 0.8627. Time:   0.30\n",
      "[CV] AUC score: 0.8643. Time:   0.27\n",
      "[CV] AUC score: 0.8554. Time:   0.21\n",
      "[CV] AUC score: 0.8517. Time:   0.20\n",
      "[CV] AUC score: 0.8676. Time:   0.23\n",
      "[CV] Average AUC: 0.8603. Total time:   1.35\n",
      "[Proxy Search] (2 of 24) Searching with params {'n_estimators': 50, 'colsample_bytree': 0.3, 'learning_rate': 0.05, 'num_leaves': 50}\n",
      "[CV] AUC score: 0.8637. Time:   0.43\n",
      "[CV] AUC score: 0.8649. Time:   0.64\n",
      "[CV] AUC score: 0.8557. Time:   0.37\n",
      "[CV] AUC score: 0.8528. Time:   0.45\n",
      "[CV] AUC score: 0.8680. Time:   0.41\n",
      "[CV] Average AUC: 0.8610. Total time:   2.48\n",
      "[Proxy Search] (3 of 24) Searching with params {'n_estimators': 50, 'colsample_bytree': 0.3, 'learning_rate': 0.1, 'num_leaves': 30}\n",
      "[CV] AUC score: 0.8660. Time:   0.36\n",
      "[CV] AUC score: 0.8671. Time:   0.27\n",
      "[CV] AUC score: 0.8581. Time:   0.29\n",
      "[CV] AUC score: 0.8551. Time:   0.33\n",
      "[CV] AUC score: 0.8708. Time:   0.37\n",
      "[CV] Average AUC: 0.8634. Total time:   1.79\n",
      "[Proxy Search] (4 of 24) Searching with params {'n_estimators': 50, 'colsample_bytree': 0.3, 'learning_rate': 0.1, 'num_leaves': 50}\n",
      "[CV] AUC score: 0.8659. Time:   0.43\n",
      "[CV] AUC score: 0.8670. Time:   0.33\n",
      "[CV] AUC score: 0.8579. Time:   0.33\n",
      "[CV] AUC score: 0.8550. Time:   0.45\n",
      "[CV] AUC score: 0.8706. Time:   0.35\n",
      "[CV] Average AUC: 0.8633. Total time:   2.05\n",
      "[Proxy Search] (5 of 24) Searching with params {'n_estimators': 50, 'colsample_bytree': 0.4, 'learning_rate': 0.05, 'num_leaves': 30}\n",
      "[CV] AUC score: 0.8641. Time:   0.28\n",
      "[CV] AUC score: 0.8651. Time:   0.27\n",
      "[CV] AUC score: 0.8572. Time:   0.32\n",
      "[CV] AUC score: 0.8530. Time:   0.28\n",
      "[CV] AUC score: 0.8690. Time:   0.27\n",
      "[CV] Average AUC: 0.8617. Total time:   1.56\n",
      "[Proxy Search] (6 of 24) Searching with params {'n_estimators': 50, 'colsample_bytree': 0.4, 'learning_rate': 0.05, 'num_leaves': 50}\n",
      "[CV] AUC score: 0.8652. Time:   0.33\n",
      "[CV] AUC score: 0.8662. Time:   0.33\n",
      "[CV] AUC score: 0.8578. Time:   0.34\n",
      "[CV] AUC score: 0.8532. Time:   0.32\n",
      "[CV] AUC score: 0.8697. Time:   0.36\n",
      "[CV] Average AUC: 0.8624. Total time:   1.81\n",
      "[Proxy Search] (7 of 24) Searching with params {'n_estimators': 50, 'colsample_bytree': 0.4, 'learning_rate': 0.1, 'num_leaves': 30}\n",
      "[CV] AUC score: 0.8672. Time:   0.33\n",
      "[CV] AUC score: 0.8688. Time:   0.28\n",
      "[CV] AUC score: 0.8594. Time:   0.28\n",
      "[CV] AUC score: 0.8547. Time:   0.28\n",
      "[CV] AUC score: 0.8722. Time:   0.35\n",
      "[CV] Average AUC: 0.8645. Total time:   1.67\n",
      "[Proxy Search] (8 of 24) Searching with params {'n_estimators': 50, 'colsample_bytree': 0.4, 'learning_rate': 0.1, 'num_leaves': 50}\n",
      "[CV] AUC score: 0.8668. Time:   0.47\n",
      "[CV] AUC score: 0.8683. Time:   0.47\n",
      "[CV] AUC score: 0.8602. Time:   0.50\n",
      "[CV] AUC score: 0.8557. Time:   0.40\n",
      "[CV] AUC score: 0.8719. Time:   0.37\n",
      "[CV] Average AUC: 0.8646. Total time:   2.38\n",
      "[Proxy Search] (9 of 24) Searching with params {'n_estimators': 50, 'colsample_bytree': 0.5, 'learning_rate': 0.05, 'num_leaves': 30}\n",
      "[CV] AUC score: 0.8649. Time:   0.32\n",
      "[CV] AUC score: 0.8650. Time:   0.61\n",
      "[CV] AUC score: 0.8573. Time:   0.44\n",
      "[CV] AUC score: 0.8540. Time:   0.31\n",
      "[CV] AUC score: 0.8689. Time:   0.35\n",
      "[CV] Average AUC: 0.8620. Total time:   2.20\n",
      "[Proxy Search] (10 of 24) Searching with params {'n_estimators': 50, 'colsample_bytree': 0.5, 'learning_rate': 0.05, 'num_leaves': 50}\n",
      "[CV] AUC score: 0.8657. Time:   0.38\n",
      "[CV] AUC score: 0.8661. Time:   0.44\n",
      "[CV] AUC score: 0.8585. Time:   0.48\n",
      "[CV] AUC score: 0.8550. Time:   0.68\n",
      "[CV] AUC score: 0.8702. Time:   0.82\n",
      "[CV] Average AUC: 0.8631. Total time:   3.01\n",
      "[Proxy Search] (11 of 24) Searching with params {'n_estimators': 50, 'colsample_bytree': 0.5, 'learning_rate': 0.1, 'num_leaves': 30}\n",
      "[CV] AUC score: 0.8675. Time:   0.56\n",
      "[CV] AUC score: 0.8686. Time:   0.73\n",
      "[CV] AUC score: 0.8599. Time:   0.58\n",
      "[CV] AUC score: 0.8562. Time:   0.39\n",
      "[CV] AUC score: 0.8719. Time:   0.33\n",
      "[CV] Average AUC: 0.8648. Total time:   2.78\n",
      "[Proxy Search] (12 of 24) Searching with params {'n_estimators': 50, 'colsample_bytree': 0.5, 'learning_rate': 0.1, 'num_leaves': 50}\n",
      "[CV] AUC score: 0.8672. Time:   0.45\n",
      "[CV] AUC score: 0.8675. Time:   0.36\n",
      "[CV] AUC score: 0.8604. Time:   0.41\n",
      "[CV] AUC score: 0.8556. Time:   0.41\n",
      "[CV] AUC score: 0.8717. Time:   0.35\n",
      "[CV] Average AUC: 0.8645. Total time:   2.14\n",
      "[Proxy Search] (13 of 24) Searching with params {'n_estimators': 200, 'colsample_bytree': 0.3, 'learning_rate': 0.05, 'num_leaves': 30}\n",
      "[CV] AUC score: 0.8699. Time:   1.14\n",
      "[CV] AUC score: 0.8716. Time:   0.77\n",
      "[CV] AUC score: 0.8627. Time:   0.76\n",
      "[CV] AUC score: 0.8573. Time:   0.77\n",
      "[CV] AUC score: 0.8747. Time:   0.76\n",
      "[CV] Average AUC: 0.8672. Total time:   4.51\n",
      "[Proxy Search] (14 of 24) Searching with params {'n_estimators': 200, 'colsample_bytree': 0.3, 'learning_rate': 0.05, 'num_leaves': 50}\n",
      "[CV] AUC score: 0.8702. Time:   1.04\n",
      "[CV] AUC score: 0.8701. Time:   1.00\n",
      "[CV] AUC score: 0.8616. Time:   0.97\n",
      "[CV] AUC score: 0.8565. Time:   0.98\n",
      "[CV] AUC score: 0.8733. Time:   0.99\n",
      "[CV] Average AUC: 0.8663. Total time:   5.26\n",
      "[Proxy Search] (15 of 24) Searching with params {'n_estimators': 200, 'colsample_bytree': 0.3, 'learning_rate': 0.1, 'num_leaves': 30}\n",
      "[CV] AUC score: 0.8678. Time:   0.77\n",
      "[CV] AUC score: 0.8697. Time:   0.74\n",
      "[CV] AUC score: 0.8596. Time:   0.87\n",
      "[CV] AUC score: 0.8554. Time:   0.74\n",
      "[CV] AUC score: 0.8715. Time:   0.74\n",
      "[CV] Average AUC: 0.8648. Total time:   4.11\n",
      "[Proxy Search] (16 of 24) Searching with params {'n_estimators': 200, 'colsample_bytree': 0.3, 'learning_rate': 0.1, 'num_leaves': 50}\n",
      "[CV] AUC score: 0.8645. Time:   1.02\n",
      "[CV] AUC score: 0.8670. Time:   1.02\n",
      "[CV] AUC score: 0.8573. Time:   0.93\n",
      "[CV] AUC score: 0.8510. Time:   1.75\n",
      "[CV] AUC score: 0.8703. Time:   1.43\n",
      "[CV] Average AUC: 0.8620. Total time:   6.46\n",
      "[Proxy Search] (17 of 24) Searching with params {'n_estimators': 200, 'colsample_bytree': 0.4, 'learning_rate': 0.05, 'num_leaves': 30}\n",
      "[CV] AUC score: 0.8699. Time:   1.23\n",
      "[CV] AUC score: 0.8712. Time:   0.88\n",
      "[CV] AUC score: 0.8616. Time:   0.89\n",
      "[CV] AUC score: 0.8570. Time:   0.88\n",
      "[CV] AUC score: 0.8745. Time:   0.89\n",
      "[CV] Average AUC: 0.8668. Total time:   5.05\n",
      "[Proxy Search] (18 of 24) Searching with params {'n_estimators': 200, 'colsample_bytree': 0.4, 'learning_rate': 0.05, 'num_leaves': 50}\n",
      "[CV] AUC score: 0.8694. Time:   1.13\n",
      "[CV] AUC score: 0.8704. Time:   1.15\n",
      "[CV] AUC score: 0.8610. Time:   1.22\n",
      "[CV] AUC score: 0.8555. Time:   1.13\n",
      "[CV] AUC score: 0.8742. Time:   1.34\n",
      "[CV] Average AUC: 0.8661. Total time:   6.32\n",
      "[Proxy Search] (19 of 24) Searching with params {'n_estimators': 200, 'colsample_bytree': 0.4, 'learning_rate': 0.1, 'num_leaves': 30}\n",
      "[CV] AUC score: 0.8663. Time:   1.13\n",
      "[CV] AUC score: 0.8688. Time:   0.84\n",
      "[CV] AUC score: 0.8596. Time:   0.89\n",
      "[CV] AUC score: 0.8535. Time:   0.83\n",
      "[CV] AUC score: 0.8739. Time:   0.84\n",
      "[CV] Average AUC: 0.8644. Total time:   4.79\n",
      "[Proxy Search] (20 of 24) Searching with params {'n_estimators': 200, 'colsample_bytree': 0.4, 'learning_rate': 0.1, 'num_leaves': 50}\n",
      "[CV] AUC score: 0.8637. Time:   1.10\n",
      "[CV] AUC score: 0.8661. Time:   1.08\n",
      "[CV] AUC score: 0.8584. Time:   1.12\n",
      "[CV] AUC score: 0.8515. Time:   1.08\n",
      "[CV] AUC score: 0.8701. Time:   1.04\n",
      "[CV] Average AUC: 0.8620. Total time:   5.72\n",
      "[Proxy Search] (21 of 24) Searching with params {'n_estimators': 200, 'colsample_bytree': 0.5, 'learning_rate': 0.05, 'num_leaves': 30}\n",
      "[CV] AUC score: 0.8688. Time:   0.95\n",
      "[CV] AUC score: 0.8702. Time:   0.90\n",
      "[CV] AUC score: 0.8612. Time:   0.90\n",
      "[CV] AUC score: 0.8563. Time:   0.92\n",
      "[CV] AUC score: 0.8747. Time:   0.90\n",
      "[CV] Average AUC: 0.8662. Total time:   4.88\n",
      "[Proxy Search] (22 of 24) Searching with params {'n_estimators': 200, 'colsample_bytree': 0.5, 'learning_rate': 0.05, 'num_leaves': 50}\n",
      "[CV] AUC score: 0.8674. Time:   1.20\n",
      "[CV] AUC score: 0.8678. Time:   1.16\n",
      "[CV] AUC score: 0.8602. Time:   1.14\n",
      "[CV] AUC score: 0.8562. Time:   1.11\n",
      "[CV] AUC score: 0.8734. Time:   1.20\n",
      "[CV] Average AUC: 0.8650. Total time:   6.12\n",
      "[Proxy Search] (23 of 24) Searching with params {'n_estimators': 200, 'colsample_bytree': 0.5, 'learning_rate': 0.1, 'num_leaves': 30}\n",
      "[CV] AUC score: 0.8648. Time:   0.96\n",
      "[CV] AUC score: 0.8680. Time:   0.90\n",
      "[CV] AUC score: 0.8590. Time:   1.01\n",
      "[CV] AUC score: 0.8521. Time:   0.96\n",
      "[CV] AUC score: 0.8707. Time:   1.06\n",
      "[CV] Average AUC: 0.8629. Total time:   5.16\n",
      "[Proxy Search] (24 of 24) Searching with params {'n_estimators': 200, 'colsample_bytree': 0.5, 'learning_rate': 0.1, 'num_leaves': 50}\n",
      "[CV] AUC score: 0.8635. Time:   1.24\n",
      "[CV] AUC score: 0.8650. Time:   1.42\n",
      "[CV] AUC score: 0.8580. Time:   1.40\n",
      "[CV] AUC score: 0.8510. Time:   1.42\n",
      "[CV] AUC score: 0.8704. Time:   1.19\n",
      "[CV] Average AUC: 0.8616. Total time:   7.01\n"
     ]
    }
   ],
   "source": [
    "search = proxy_search(search_space, lgbm_multi_lambda, train_features, train_labels)"
   ]
  },
  {
   "cell_type": "code",
   "execution_count": 14,
   "metadata": {},
   "outputs": [
    {
     "data": {
      "text/plain": [
       "{'params': {'n_estimators': 200,\n",
       "  'colsample_bytree': 0.5,\n",
       "  'learning_rate': 0.05,\n",
       "  'num_leaves': 50},\n",
       " 'roc_auc': 0.8693384996292246}"
      ]
     },
     "execution_count": 14,
     "metadata": {},
     "output_type": "execute_result"
    }
   ],
   "source": [
    "search_max = max(search, key=lambda item: item['roc_auc'])\n",
    "search_max"
   ]
  },
  {
   "cell_type": "code",
   "execution_count": 15,
   "metadata": {},
   "outputs": [],
   "source": [
    "# split train features in two\n",
    "X_train, X_test, y_train, y_test = train_test_split(train_features, train_labels, test_size=0.2, random_state=SEED)"
   ]
  },
  {
   "cell_type": "code",
   "execution_count": 16,
   "metadata": {},
   "outputs": [
    {
     "name": "stdout",
     "output_type": "stream",
     "text": [
      "[CV] AUC score: 0.8674. Time:   1.21\n",
      "[CV] AUC score: 0.8678. Time:   1.50\n",
      "[CV] AUC score: 0.8602. Time:   1.54\n",
      "[CV] AUC score: 0.8562. Time:   1.41\n",
      "[CV] AUC score: 0.8734. Time:   1.40\n",
      "[CV] Average AUC: 0.8650. Total time:   7.45\n"
     ]
    }
   ],
   "source": [
    "# LightGBM\n",
    "lgbm = lgb.LGBMClassifier(objective='binary', **search_max['params'])\n",
    "multi_lgbm = MultiOutputClassifier(lgbm)\n",
    "lgbm_cvd, y_preds_lgbm = cross_validation(multi_lgbm, X_train, y_train, kf)"
   ]
  },
  {
   "cell_type": "code",
   "execution_count": 17,
   "metadata": {},
   "outputs": [],
   "source": [
    "# aprendemos con todos los ejemplos\n",
    "lgbm_cvd = lgbm_cvd.fit(X_train, y_train)\n",
    "# aplicamos probabilidad\n",
    "lgbm_preds = lgbm_cvd.predict_proba(X_test)"
   ]
  },
  {
   "cell_type": "code",
   "execution_count": 18,
   "metadata": {},
   "outputs": [
    {
     "data": {
      "text/plain": [
       "0.8693384996292246"
      ]
     },
     "execution_count": 18,
     "metadata": {},
     "output_type": "execute_result"
    }
   ],
   "source": [
    "roc_auc_score(y_test, preds_to_df(lgbm_preds, X_test))"
   ]
  },
  {
   "cell_type": "markdown",
   "metadata": {},
   "source": [
    "### Submission"
   ]
  },
  {
   "cell_type": "code",
   "execution_count": 19,
   "metadata": {},
   "outputs": [
    {
     "name": "stdout",
     "output_type": "stream",
     "text": [
      "[CV] AUC score: 0.8693. Time:   1.04\n",
      "[CV] AUC score: 0.8677. Time:   0.91\n",
      "[CV] AUC score: 0.8672. Time:   0.98\n",
      "[CV] AUC score: 0.8707. Time:   1.72\n",
      "[CV] AUC score: 0.8652. Time:   1.51\n",
      "[CV] Average AUC: 0.8680. Total time:   6.55\n"
     ]
    }
   ],
   "source": [
    "# LightGBM\n",
    "lgbm = lgb.LGBMClassifier(objective='binary', **search_max['params'])\n",
    "multi_lgbm = MultiOutputClassifier(lgbm)\n",
    "lgbm_cvd, y_preds_lgbm = cross_validation(multi_lgbm, train_features, train_labels, kf)"
   ]
  },
  {
   "cell_type": "code",
   "execution_count": 20,
   "metadata": {},
   "outputs": [],
   "source": [
    "# aprendemos con todos los ejemplos\n",
    "lgbm_cvd = lgbm_cvd.fit(train_features, train_labels)\n",
    "# aplicamos probabilidad\n",
    "lgbm_preds = lgbm_cvd.predict_proba(test_features)"
   ]
  },
  {
   "cell_type": "code",
   "execution_count": 21,
   "metadata": {},
   "outputs": [],
   "source": [
    "preds_to_df(lgbm_preds, test_features).to_csv('../submissions/06.csv')"
   ]
  }
 ],
 "metadata": {
  "interpreter": {
   "hash": "03469d2279380861effdb539faa94366dad91bf8bac57f21af88f53ab829405b"
  },
  "kernelspec": {
   "display_name": "Python 3.8.8 64-bit ('base': conda)",
   "language": "python",
   "name": "python3"
  },
  "language_info": {
   "codemirror_mode": {
    "name": "ipython",
    "version": 3
   },
   "file_extension": ".py",
   "mimetype": "text/x-python",
   "name": "python",
   "nbconvert_exporter": "python",
   "pygments_lexer": "ipython3",
   "version": "3.8.8"
  },
  "orig_nbformat": 4
 },
 "nbformat": 4,
 "nbformat_minor": 2
}
