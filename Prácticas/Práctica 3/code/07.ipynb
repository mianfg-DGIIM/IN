{
 "cells": [
  {
   "cell_type": "markdown",
   "metadata": {},
   "source": [
    "# Intento 7\n",
    "\n",
    "| Score | Estimación _holdout_ | Timestamp |\n",
    "| --- | --- | --- |\n",
    "| **0.8608** | 0.8682 | 2022-01-03 11:56:43 UTC |\n",
    "\n",
    "- _Hyperparameter tuning_ en XGBoost."
   ]
  },
  {
   "cell_type": "code",
   "execution_count": 1,
   "metadata": {},
   "outputs": [],
   "source": [
    "import pandas as pd\n",
    "import numpy as np\n",
    "import time\n",
    "from itertools import product\n",
    "from sklearn.model_selection import KFold, train_test_split\n",
    "from sklearn.metrics import roc_auc_score\n",
    "from sklearn.multioutput import MultiOutputClassifier\n",
    "from sklearn.preprocessing import LabelEncoder\n",
    "from sklearn.impute import SimpleImputer\n",
    "import xgboost as xgb\n",
    "\n",
    "# código común\n",
    "import common.preprocessing as pre\n",
    "from common.vars import SEED\n",
    "\n",
    "# display all columns\n",
    "pd.options.display.max_columns = None"
   ]
  },
  {
   "cell_type": "code",
   "execution_count": 2,
   "metadata": {},
   "outputs": [],
   "source": [
    "train_features = pd.read_csv('../data/flu_training_set_features.csv', index_col='respondent_id')\n",
    "train_labels = pd.read_csv('../data/flu_training_set_labels.csv', index_col='respondent_id')\n",
    "test_features = pd.read_csv('../data/flu_test_set_features.csv', index_col='respondent_id')"
   ]
  },
  {
   "cell_type": "code",
   "execution_count": 3,
   "metadata": {},
   "outputs": [],
   "source": [
    "def preprocess(train_features, test_features):\n",
    "  \"\"\"PREPROCESAMIENTO\n",
    "  \"\"\"\n",
    "  labels = {}\n",
    "  imp = SimpleImputer(missing_values=np.nan, strategy='most_frequent')\n",
    "  _train_features = train_features.astype(str)\n",
    "  # uso SimpleImputer para \"eliminar los nulos\", como elimina los nombres de las columnas los ponemos de nuevo\n",
    "  _train_features = pd.DataFrame(imp.fit_transform(_train_features), index=train_features.index)\n",
    "  _train_features.columns = train_features.columns\n",
    "\n",
    "  _all = pd.concat([train_features, test_features])\n",
    "\n",
    "  # aprendo las etiquetas\n",
    "  for col in _all.columns:\n",
    "    labels[col] = LabelEncoder()\n",
    "    labels[col].fit(_all[col].astype(str))\n",
    "  \n",
    "  # aplico el etiquetado\n",
    "  for col in _train_features.columns:\n",
    "    _train_features[col] = labels[col].transform(_train_features[col])\n",
    "  \n",
    "  _test_features = test_features.astype(str)\n",
    "  _test_features = pd.DataFrame(imp.transform(_test_features), index=test_features.index)\n",
    "  _test_features.columns = test_features.columns\n",
    "\n",
    "  # aplico el mismo etiquetado con los valores de test\n",
    "  for col in _test_features.columns:\n",
    "    _test_features[col] = labels[col].transform(_test_features[col])\n",
    "  \n",
    "  return _train_features, _test_features"
   ]
  },
  {
   "cell_type": "code",
   "execution_count": 4,
   "metadata": {},
   "outputs": [],
   "source": [
    "train_features, test_features = preprocess(train_features, test_features)"
   ]
  },
  {
   "cell_type": "code",
   "execution_count": 5,
   "metadata": {},
   "outputs": [],
   "source": [
    "kf = KFold(n_splits=5, shuffle=True, random_state=SEED)\n",
    "\n",
    "def cross_validation(model, X, y, cv):\n",
    "  measures = []\n",
    "  time_total_0 = time.time()\n",
    "\n",
    "  for train, test in cv.split(X, y):\n",
    "    X_train = X.iloc[train, :].values\n",
    "    X_test = X.iloc[test, :].values\n",
    "    y_train = y.iloc[train, :].values\n",
    "    y_test = y.iloc[test, :].values\n",
    "    time_iter_0 = time.time()\n",
    "    _model = model.fit(X_train, y_train)\n",
    "    time_iter = time.time() - time_iter_0\n",
    "    preds = _model.predict_proba(X_test)\n",
    "    y_preds = pd.DataFrame(\n",
    "      {\n",
    "        'h1n1_vaccine':     preds[0][:,1],\n",
    "        'seasonal_vaccine': preds[1][:,1],\n",
    "      },\n",
    "      index = y.iloc[test,:].index\n",
    "    )\n",
    "    measure = roc_auc_score(y_test, y_preds)\n",
    "    print(f\"[CV] AUC score: {measure:.4f}. Time: {time_iter:6.2f}\")\n",
    "    measures.append(measure)\n",
    "  \n",
    "  time_total = time.time() - time_total_0\n",
    "  print(f\"[CV] Average AUC: {np.mean(measures):.4f}. Total time: {time_total:6.2f}\")\n",
    "  return model, y_preds\n",
    "\n",
    "def preds_to_df(preds, features):\n",
    "  return pd.DataFrame(\n",
    "    {\n",
    "      'h1n1_vaccine': preds[0][:,1],\n",
    "      'seasonal_vaccine': preds[1][:,1]\n",
    "    },\n",
    "    index = features.index\n",
    "  )"
   ]
  },
  {
   "cell_type": "markdown",
   "metadata": {},
   "source": [
    "### _Holdout_ como proxy de ROC en test"
   ]
  },
  {
   "cell_type": "code",
   "execution_count": 6,
   "metadata": {},
   "outputs": [],
   "source": [
    "def holdout_proxy(model, X, y, test_size=0.2):\n",
    "  # split train features in two\n",
    "  X_train, X_test, y_train, y_test = train_test_split(X, y, test_size=test_size, random_state=SEED)\n",
    "\n",
    "  model_cvd, _ = cross_validation(model, X_train, y_train, kf)\n",
    "\n",
    "  # aprendemos con todos los ejemplos\n",
    "  model_cvd = model_cvd.fit(X_train, y_train)\n",
    "  # aplicamos probabilidad\n",
    "  preds = model_cvd.predict_proba(X_test)\n",
    "\n",
    "  return roc_auc_score(y_test, preds_to_df(preds, X_test))"
   ]
  },
  {
   "cell_type": "code",
   "execution_count": 11,
   "metadata": {},
   "outputs": [],
   "source": [
    "def proxy_search(search_space, model_lambda, X, y, test_size=0.2):\n",
    "  space = (dict(zip(search_space.keys(), values)) for values in product(*search_space.values()))\n",
    "  n = len(list(product(*search_space.values())))\n",
    "  results = []\n",
    "  i = 1\n",
    "  for params in space:\n",
    "    print(f\"[Proxy Search] ({i} of {n}) Searching with params {params}\")\n",
    "    model = model_lambda(params)\n",
    "    roc_auc = holdout_proxy(model, X, y, test_size=test_size)\n",
    "    results.append({\n",
    "      'params': params,\n",
    "      'roc_auc': roc_auc\n",
    "    })\n",
    "    i += 1\n",
    "\n",
    "  return results"
   ]
  },
  {
   "cell_type": "code",
   "execution_count": 8,
   "metadata": {},
   "outputs": [],
   "source": [
    "xgb_multi_lambda = lambda params: MultiOutputClassifier(xgb.XGBClassifier(seed=SEED, use_label_encoder=False, eval_metric='auc', **params))"
   ]
  },
  {
   "cell_type": "code",
   "execution_count": 9,
   "metadata": {},
   "outputs": [],
   "source": [
    "search_space = {\n",
    "  'eta': [0.05, 0.1, 0.2],\n",
    "  'max_depth': [3, 5, 8, 10],\n",
    "  'subsample': [0.5, 0.75, 1]\n",
    "}"
   ]
  },
  {
   "cell_type": "code",
   "execution_count": 12,
   "metadata": {},
   "outputs": [
    {
     "name": "stdout",
     "output_type": "stream",
     "text": [
      "[Proxy Search] (1 of 36) Searching with params {'eta': 0.05, 'max_depth': 3, 'subsample': 0.5}\n",
      "[CV] AUC score: 0.8619. Time:   1.95\n",
      "[CV] AUC score: 0.8630. Time:   1.76\n",
      "[CV] AUC score: 0.8522. Time:   1.67\n",
      "[CV] AUC score: 0.8509. Time:   1.72\n",
      "[CV] AUC score: 0.8662. Time:   1.77\n",
      "[CV] Average AUC: 0.8589. Total time:   9.03\n",
      "[Proxy Search] (2 of 36) Searching with params {'eta': 0.05, 'max_depth': 3, 'subsample': 0.75}\n",
      "[CV] AUC score: 0.8619. Time:   1.63\n",
      "[CV] AUC score: 0.8626. Time:   1.59\n",
      "[CV] AUC score: 0.8516. Time:   1.94\n",
      "[CV] AUC score: 0.8509. Time:   1.52\n",
      "[CV] AUC score: 0.8657. Time:   1.49\n",
      "[CV] Average AUC: 0.8585. Total time:   8.32\n",
      "[Proxy Search] (3 of 36) Searching with params {'eta': 0.05, 'max_depth': 3, 'subsample': 1}\n",
      "[CV] AUC score: 0.8615. Time:   1.09\n",
      "[CV] AUC score: 0.8623. Time:   1.20\n",
      "[CV] AUC score: 0.8516. Time:   1.34\n",
      "[CV] AUC score: 0.8502. Time:   1.10\n",
      "[CV] AUC score: 0.8655. Time:   1.11\n",
      "[CV] Average AUC: 0.8582. Total time:   5.98\n",
      "[Proxy Search] (4 of 36) Searching with params {'eta': 0.05, 'max_depth': 5, 'subsample': 0.5}\n",
      "[CV] AUC score: 0.8671. Time:   2.73\n",
      "[CV] AUC score: 0.8688. Time:   3.53\n",
      "[CV] AUC score: 0.8592. Time:   3.80\n",
      "[CV] AUC score: 0.8555. Time:   3.82\n",
      "[CV] AUC score: 0.8703. Time:   3.51\n",
      "[CV] Average AUC: 0.8642. Total time:  17.60\n",
      "[Proxy Search] (5 of 36) Searching with params {'eta': 0.05, 'max_depth': 5, 'subsample': 0.75}\n",
      "[CV] AUC score: 0.8669. Time:   3.14\n",
      "[CV] AUC score: 0.8679. Time:   3.20\n",
      "[CV] AUC score: 0.8585. Time:   2.71\n",
      "[CV] AUC score: 0.8560. Time:   2.33\n",
      "[CV] AUC score: 0.8714. Time:   2.43\n",
      "[CV] Average AUC: 0.8641. Total time:  13.97\n",
      "[Proxy Search] (6 of 36) Searching with params {'eta': 0.05, 'max_depth': 5, 'subsample': 1}\n",
      "[CV] AUC score: 0.8663. Time:   3.30\n",
      "[CV] AUC score: 0.8670. Time:   1.92\n",
      "[CV] AUC score: 0.8579. Time:   2.85\n",
      "[CV] AUC score: 0.8553. Time:   2.02\n",
      "[CV] AUC score: 0.8703. Time:   2.05\n",
      "[CV] Average AUC: 0.8634. Total time:  12.32\n",
      "[Proxy Search] (7 of 36) Searching with params {'eta': 0.05, 'max_depth': 8, 'subsample': 0.5}\n",
      "[CV] AUC score: 0.8649. Time:   4.01\n",
      "[CV] AUC score: 0.8668. Time:   4.32\n",
      "[CV] AUC score: 0.8574. Time:   4.56\n",
      "[CV] AUC score: 0.8522. Time:   5.71\n",
      "[CV] AUC score: 0.8702. Time:   5.17\n",
      "[CV] Average AUC: 0.8623. Total time:  24.00\n",
      "[Proxy Search] (8 of 36) Searching with params {'eta': 0.05, 'max_depth': 8, 'subsample': 0.75}\n",
      "[CV] AUC score: 0.8645. Time:   6.21\n",
      "[CV] AUC score: 0.8653. Time:   5.46\n",
      "[CV] AUC score: 0.8577. Time:   4.00\n",
      "[CV] AUC score: 0.8540. Time:   4.17\n",
      "[CV] AUC score: 0.8700. Time:   4.10\n",
      "[CV] Average AUC: 0.8623. Total time:  24.14\n",
      "[Proxy Search] (9 of 36) Searching with params {'eta': 0.05, 'max_depth': 8, 'subsample': 1}\n",
      "[CV] AUC score: 0.8602. Time:   4.17\n",
      "[CV] AUC score: 0.8640. Time:   4.76\n",
      "[CV] AUC score: 0.8556. Time:   6.19\n",
      "[CV] AUC score: 0.8516. Time:   4.52\n",
      "[CV] AUC score: 0.8692. Time:   3.90\n",
      "[CV] Average AUC: 0.8601. Total time:  23.74\n",
      "[Proxy Search] (10 of 36) Searching with params {'eta': 0.05, 'max_depth': 10, 'subsample': 0.5}\n",
      "[CV] AUC score: 0.8608. Time:   5.69\n",
      "[CV] AUC score: 0.8652. Time:   5.63\n",
      "[CV] AUC score: 0.8564. Time:   6.51\n",
      "[CV] AUC score: 0.8522. Time:  12.54\n",
      "[CV] AUC score: 0.8687. Time:   8.37\n",
      "[CV] Average AUC: 0.8606. Total time:  38.98\n",
      "[Proxy Search] (11 of 36) Searching with params {'eta': 0.05, 'max_depth': 10, 'subsample': 0.75}\n",
      "[CV] AUC score: 0.8607. Time:   6.81\n",
      "[CV] AUC score: 0.8631. Time:  11.49\n",
      "[CV] AUC score: 0.8552. Time:   9.08\n",
      "[CV] AUC score: 0.8505. Time:   7.90\n",
      "[CV] AUC score: 0.8676. Time:   6.16\n",
      "[CV] Average AUC: 0.8594. Total time:  41.66\n",
      "[Proxy Search] (12 of 36) Searching with params {'eta': 0.05, 'max_depth': 10, 'subsample': 1}\n",
      "[CV] AUC score: 0.8570. Time:   5.40\n",
      "[CV] AUC score: 0.8581. Time:   5.31\n",
      "[CV] AUC score: 0.8509. Time:  10.61\n",
      "[CV] AUC score: 0.8450. Time:  12.52\n",
      "[CV] AUC score: 0.8635. Time:  10.52\n",
      "[CV] Average AUC: 0.8549. Total time:  44.66\n",
      "[Proxy Search] (13 of 36) Searching with params {'eta': 0.1, 'max_depth': 3, 'subsample': 0.5}\n",
      "[CV] AUC score: 0.8658. Time:   4.30\n",
      "[CV] AUC score: 0.8685. Time:   2.28\n",
      "[CV] AUC score: 0.8585. Time:   2.95\n",
      "[CV] AUC score: 0.8545. Time:   3.12\n",
      "[CV] AUC score: 0.8718. Time:   2.41\n",
      "[CV] Average AUC: 0.8638. Total time:  15.27\n",
      "[Proxy Search] (14 of 36) Searching with params {'eta': 0.1, 'max_depth': 3, 'subsample': 0.75}\n",
      "[CV] AUC score: 0.8662. Time:   1.93\n",
      "[CV] AUC score: 0.8687. Time:   1.96\n",
      "[CV] AUC score: 0.8573. Time:   1.93\n",
      "[CV] AUC score: 0.8555. Time:   1.62\n",
      "[CV] AUC score: 0.8714. Time:   1.48\n",
      "[CV] Average AUC: 0.8638. Total time:   9.09\n",
      "[Proxy Search] (15 of 36) Searching with params {'eta': 0.1, 'max_depth': 3, 'subsample': 1}\n",
      "[CV] AUC score: 0.8664. Time:   1.80\n",
      "[CV] AUC score: 0.8680. Time:   2.26\n",
      "[CV] AUC score: 0.8573. Time:   2.06\n",
      "[CV] AUC score: 0.8543. Time:   1.42\n",
      "[CV] AUC score: 0.8711. Time:   1.26\n",
      "[CV] Average AUC: 0.8634. Total time:   8.96\n",
      "[Proxy Search] (16 of 36) Searching with params {'eta': 0.1, 'max_depth': 5, 'subsample': 0.5}\n",
      "[CV] AUC score: 0.8672. Time:   2.45\n",
      "[CV] AUC score: 0.8690. Time:   2.66\n",
      "[CV] AUC score: 0.8604. Time:   2.23\n",
      "[CV] AUC score: 0.8579. Time:   2.35\n",
      "[CV] AUC score: 0.8712. Time:   2.93\n",
      "[CV] Average AUC: 0.8652. Total time:  12.83\n",
      "[Proxy Search] (17 of 36) Searching with params {'eta': 0.1, 'max_depth': 5, 'subsample': 0.75}\n",
      "[CV] AUC score: 0.8671. Time:   3.33\n",
      "[CV] AUC score: 0.8695. Time:   3.37\n",
      "[CV] AUC score: 0.8614. Time:   3.29\n",
      "[CV] AUC score: 0.8556. Time:   2.99\n",
      "[CV] AUC score: 0.8720. Time:   4.26\n",
      "[CV] Average AUC: 0.8651. Total time:  17.46\n",
      "[Proxy Search] (18 of 36) Searching with params {'eta': 0.1, 'max_depth': 5, 'subsample': 1}\n",
      "[CV] AUC score: 0.8667. Time:   2.21\n",
      "[CV] AUC score: 0.8687. Time:   2.58\n",
      "[CV] AUC score: 0.8596. Time:   3.17\n",
      "[CV] AUC score: 0.8559. Time:   1.99\n",
      "[CV] AUC score: 0.8723. Time:   3.05\n",
      "[CV] Average AUC: 0.8646. Total time:  13.22\n",
      "[Proxy Search] (19 of 36) Searching with params {'eta': 0.1, 'max_depth': 8, 'subsample': 0.5}\n",
      "[CV] AUC score: 0.8586. Time:   6.93\n",
      "[CV] AUC score: 0.8607. Time:   6.41\n",
      "[CV] AUC score: 0.8548. Time:   6.23\n",
      "[CV] AUC score: 0.8465. Time:   5.94\n",
      "[CV] AUC score: 0.8639. Time:   6.35\n",
      "[CV] Average AUC: 0.8569. Total time:  32.09\n",
      "[Proxy Search] (20 of 36) Searching with params {'eta': 0.1, 'max_depth': 8, 'subsample': 0.75}\n",
      "[CV] AUC score: 0.8602. Time:   5.40\n",
      "[CV] AUC score: 0.8649. Time:   4.99\n",
      "[CV] AUC score: 0.8543. Time:   5.08\n",
      "[CV] AUC score: 0.8503. Time:   5.00\n",
      "[CV] AUC score: 0.8676. Time:   4.98\n",
      "[CV] Average AUC: 0.8595. Total time:  25.72\n",
      "[Proxy Search] (21 of 36) Searching with params {'eta': 0.1, 'max_depth': 8, 'subsample': 1}\n",
      "[CV] AUC score: 0.8577. Time:   3.93\n",
      "[CV] AUC score: 0.8609. Time:   4.35\n",
      "[CV] AUC score: 0.8533. Time:   5.74\n",
      "[CV] AUC score: 0.8492. Time:   3.86\n",
      "[CV] AUC score: 0.8686. Time:   4.45\n",
      "[CV] Average AUC: 0.8579. Total time:  22.55\n",
      "[Proxy Search] (22 of 36) Searching with params {'eta': 0.1, 'max_depth': 10, 'subsample': 0.5}\n",
      "[CV] AUC score: 0.8532. Time:   6.14\n",
      "[CV] AUC score: 0.8575. Time:   6.86\n",
      "[CV] AUC score: 0.8476. Time:   7.91\n",
      "[CV] AUC score: 0.8431. Time:   6.32\n",
      "[CV] AUC score: 0.8597. Time:   7.62\n",
      "[CV] Average AUC: 0.8522. Total time:  35.07\n",
      "[Proxy Search] (23 of 36) Searching with params {'eta': 0.1, 'max_depth': 10, 'subsample': 0.75}\n",
      "[CV] AUC score: 0.8562. Time:   5.19\n",
      "[CV] AUC score: 0.8601. Time:   5.25\n",
      "[CV] AUC score: 0.8499. Time:   5.12\n",
      "[CV] AUC score: 0.8450. Time:   5.15\n",
      "[CV] AUC score: 0.8634. Time:   6.77\n",
      "[CV] Average AUC: 0.8549. Total time:  27.65\n",
      "[Proxy Search] (24 of 36) Searching with params {'eta': 0.1, 'max_depth': 10, 'subsample': 1}\n",
      "[CV] AUC score: 0.8535. Time:   4.58\n",
      "[CV] AUC score: 0.8548. Time:   5.25\n",
      "[CV] AUC score: 0.8502. Time:   5.15\n",
      "[CV] AUC score: 0.8432. Time:   4.57\n",
      "[CV] AUC score: 0.8623. Time:   4.97\n",
      "[CV] Average AUC: 0.8528. Total time:  24.68\n",
      "[Proxy Search] (25 of 36) Searching with params {'eta': 0.2, 'max_depth': 3, 'subsample': 0.5}\n",
      "[CV] AUC score: 0.8662. Time:   1.39\n",
      "[CV] AUC score: 0.8672. Time:   1.40\n",
      "[CV] AUC score: 0.8587. Time:   1.38\n",
      "[CV] AUC score: 0.8548. Time:   1.39\n",
      "[CV] AUC score: 0.8718. Time:   1.43\n",
      "[CV] Average AUC: 0.8637. Total time:   7.13\n",
      "[Proxy Search] (26 of 36) Searching with params {'eta': 0.2, 'max_depth': 3, 'subsample': 0.75}\n",
      "[CV] AUC score: 0.8665. Time:   1.31\n",
      "[CV] AUC score: 0.8709. Time:   1.32\n",
      "[CV] AUC score: 0.8598. Time:   1.33\n",
      "[CV] AUC score: 0.8555. Time:   1.32\n",
      "[CV] AUC score: 0.8727. Time:   1.33\n",
      "[CV] Average AUC: 0.8651. Total time:   6.74\n",
      "[Proxy Search] (27 of 36) Searching with params {'eta': 0.2, 'max_depth': 3, 'subsample': 1}\n",
      "[CV] AUC score: 0.8673. Time:   0.96\n",
      "[CV] AUC score: 0.8700. Time:   0.96\n",
      "[CV] AUC score: 0.8608. Time:   0.96\n",
      "[CV] AUC score: 0.8541. Time:   0.96\n",
      "[CV] AUC score: 0.8730. Time:   0.96\n",
      "[CV] Average AUC: 0.8650. Total time:   4.93\n",
      "[Proxy Search] (28 of 36) Searching with params {'eta': 0.2, 'max_depth': 5, 'subsample': 0.5}\n",
      "[CV] AUC score: 0.8577. Time:   2.13\n",
      "[CV] AUC score: 0.8591. Time:   2.14\n",
      "[CV] AUC score: 0.8519. Time:   2.13\n",
      "[CV] AUC score: 0.8477. Time:   2.31\n",
      "[CV] AUC score: 0.8656. Time:   2.16\n",
      "[CV] Average AUC: 0.8564. Total time:  11.01\n",
      "[Proxy Search] (29 of 36) Searching with params {'eta': 0.2, 'max_depth': 5, 'subsample': 0.75}\n",
      "[CV] AUC score: 0.8616. Time:   2.03\n",
      "[CV] AUC score: 0.8630. Time:   2.09\n",
      "[CV] AUC score: 0.8562. Time:   2.13\n",
      "[CV] AUC score: 0.8529. Time:   2.28\n",
      "[CV] AUC score: 0.8656. Time:   2.52\n",
      "[CV] Average AUC: 0.8598. Total time:  11.19\n",
      "[Proxy Search] (30 of 36) Searching with params {'eta': 0.2, 'max_depth': 5, 'subsample': 1}\n",
      "[CV] AUC score: 0.8618. Time:   1.98\n",
      "[CV] AUC score: 0.8649. Time:   1.69\n",
      "[CV] AUC score: 0.8581. Time:   1.58\n",
      "[CV] AUC score: 0.8519. Time:   1.77\n",
      "[CV] AUC score: 0.8705. Time:   1.65\n",
      "[CV] Average AUC: 0.8614. Total time:   8.82\n",
      "[Proxy Search] (31 of 36) Searching with params {'eta': 0.2, 'max_depth': 8, 'subsample': 0.5}\n",
      "[CV] AUC score: 0.8459. Time:   4.41\n",
      "[CV] AUC score: 0.8469. Time:   3.78\n",
      "[CV] AUC score: 0.8409. Time:   3.85\n",
      "[CV] AUC score: 0.8335. Time:   3.95\n",
      "[CV] AUC score: 0.8538. Time:   3.69\n",
      "[CV] Average AUC: 0.8442. Total time:  19.83\n",
      "[Proxy Search] (32 of 36) Searching with params {'eta': 0.2, 'max_depth': 8, 'subsample': 0.75}\n",
      "[CV] AUC score: 0.8492. Time:   3.67\n",
      "[CV] AUC score: 0.8513. Time:   3.67\n",
      "[CV] AUC score: 0.8429. Time:   3.62\n",
      "[CV] AUC score: 0.8401. Time:   3.60\n",
      "[CV] AUC score: 0.8580. Time:   3.61\n",
      "[CV] Average AUC: 0.8483. Total time:  18.32\n",
      "[Proxy Search] (33 of 36) Searching with params {'eta': 0.2, 'max_depth': 8, 'subsample': 1}\n",
      "[CV] AUC score: 0.8496. Time:   3.01\n",
      "[CV] AUC score: 0.8534. Time:   3.12\n",
      "[CV] AUC score: 0.8476. Time:   2.99\n",
      "[CV] AUC score: 0.8433. Time:   3.06\n",
      "[CV] AUC score: 0.8577. Time:   3.04\n",
      "[CV] Average AUC: 0.8503. Total time:  15.37\n",
      "[Proxy Search] (34 of 36) Searching with params {'eta': 0.2, 'max_depth': 10, 'subsample': 0.5}\n",
      "[CV] AUC score: 0.8405. Time:   4.98\n",
      "[CV] AUC score: 0.8439. Time:   4.92\n",
      "[CV] AUC score: 0.8364. Time:   4.89\n",
      "[CV] AUC score: 0.8304. Time:   4.98\n",
      "[CV] AUC score: 0.8493. Time:   5.30\n",
      "[CV] Average AUC: 0.8401. Total time:  25.24\n",
      "[Proxy Search] (35 of 36) Searching with params {'eta': 0.2, 'max_depth': 10, 'subsample': 0.75}\n",
      "[CV] AUC score: 0.8426. Time:   5.27\n",
      "[CV] AUC score: 0.8496. Time:   5.36\n",
      "[CV] AUC score: 0.8374. Time:   4.87\n",
      "[CV] AUC score: 0.8383. Time:   4.87\n",
      "[CV] AUC score: 0.8543. Time:   5.01\n",
      "[CV] Average AUC: 0.8444. Total time:  25.54\n",
      "[Proxy Search] (36 of 36) Searching with params {'eta': 0.2, 'max_depth': 10, 'subsample': 1}\n",
      "[CV] AUC score: 0.8483. Time:   4.45\n",
      "[CV] AUC score: 0.8477. Time:   4.34\n",
      "[CV] AUC score: 0.8441. Time:   6.22\n",
      "[CV] AUC score: 0.8361. Time:   6.60\n",
      "[CV] AUC score: 0.8540. Time:   5.76\n",
      "[CV] Average AUC: 0.8461. Total time:  27.55\n"
     ]
    }
   ],
   "source": [
    "search = proxy_search(search_space, xgb_multi_lambda, train_features, train_labels)"
   ]
  },
  {
   "cell_type": "code",
   "execution_count": 13,
   "metadata": {},
   "outputs": [
    {
     "data": {
      "text/plain": [
       "{'params': {'eta': 0.1, 'max_depth': 5, 'subsample': 0.75},\n",
       " 'roc_auc': 0.8682050936387379}"
      ]
     },
     "execution_count": 13,
     "metadata": {},
     "output_type": "execute_result"
    }
   ],
   "source": [
    "search_max = max(search, key=lambda item: item['roc_auc'])\n",
    "search_max"
   ]
  },
  {
   "cell_type": "code",
   "execution_count": 14,
   "metadata": {},
   "outputs": [],
   "source": [
    "# split train features in two\n",
    "X_train, X_test, y_train, y_test = train_test_split(train_features, train_labels, test_size=0.2, random_state=SEED)"
   ]
  },
  {
   "cell_type": "code",
   "execution_count": 15,
   "metadata": {},
   "outputs": [
    {
     "name": "stdout",
     "output_type": "stream",
     "text": [
      "[CV] AUC score: 0.8671. Time:   2.07\n",
      "[CV] AUC score: 0.8695. Time:   2.67\n",
      "[CV] AUC score: 0.8614. Time:   2.24\n",
      "[CV] AUC score: 0.8556. Time:   1.97\n",
      "[CV] AUC score: 0.8720. Time:   1.99\n",
      "[CV] Average AUC: 0.8651. Total time:  11.10\n"
     ]
    }
   ],
   "source": [
    "# LightGBM\n",
    "xgb_multi = MultiOutputClassifier(xgb.XGBClassifier(seed=SEED, use_label_encoder=False, eval_metric='auc', **search_max['params']))\n",
    "xgb_cvd, y_preds_xgb = cross_validation(xgb_multi, X_train, y_train, kf)"
   ]
  },
  {
   "cell_type": "code",
   "execution_count": 16,
   "metadata": {},
   "outputs": [],
   "source": [
    "# aprendemos con todos los ejemplos\n",
    "xgb_cvd = xgb_cvd.fit(X_train, y_train)\n",
    "# aplicamos probabilidad\n",
    "xgb_preds = xgb_cvd.predict_proba(X_test)"
   ]
  },
  {
   "cell_type": "code",
   "execution_count": 17,
   "metadata": {},
   "outputs": [
    {
     "data": {
      "text/plain": [
       "0.8682050936387379"
      ]
     },
     "execution_count": 17,
     "metadata": {},
     "output_type": "execute_result"
    }
   ],
   "source": [
    "roc_auc_score(y_test, preds_to_df(xgb_preds, X_test))"
   ]
  },
  {
   "cell_type": "markdown",
   "metadata": {},
   "source": [
    "### Submission"
   ]
  },
  {
   "cell_type": "code",
   "execution_count": 21,
   "metadata": {},
   "outputs": [
    {
     "name": "stdout",
     "output_type": "stream",
     "text": [
      "[CV] AUC score: 0.8681. Time:   2.62\n",
      "[CV] AUC score: 0.8673. Time:   2.58\n",
      "[CV] AUC score: 0.8658. Time:   2.54\n",
      "[CV] AUC score: 0.8696. Time:   3.17\n",
      "[CV] AUC score: 0.8641. Time:   4.13\n",
      "[CV] Average AUC: 0.8670. Total time:  15.22\n"
     ]
    }
   ],
   "source": [
    "# LightGBM\n",
    "xgb_multi = MultiOutputClassifier(xgb.XGBClassifier(seed=SEED, use_label_encoder=False, eval_metric='auc', **search_max['params']))\n",
    "xgb_cvd, y_preds_xgb = cross_validation(xgb_multi, train_features, train_labels, kf)"
   ]
  },
  {
   "cell_type": "code",
   "execution_count": 22,
   "metadata": {},
   "outputs": [],
   "source": [
    "# aprendemos con todos los ejemplos\n",
    "xgb_cvd = xgb_cvd.fit(train_features, train_labels)\n",
    "# aplicamos probabilidad\n",
    "xgb_preds = xgb_cvd.predict_proba(test_features)"
   ]
  },
  {
   "cell_type": "code",
   "execution_count": 23,
   "metadata": {},
   "outputs": [],
   "source": [
    "preds_to_df(xgb_preds, test_features).to_csv('../submissions/07.csv')"
   ]
  }
 ],
 "metadata": {
  "interpreter": {
   "hash": "03469d2279380861effdb539faa94366dad91bf8bac57f21af88f53ab829405b"
  },
  "kernelspec": {
   "display_name": "Python 3.8.8 64-bit ('base': conda)",
   "language": "python",
   "name": "python3"
  },
  "language_info": {
   "codemirror_mode": {
    "name": "ipython",
    "version": 3
   },
   "file_extension": ".py",
   "mimetype": "text/x-python",
   "name": "python",
   "nbconvert_exporter": "python",
   "pygments_lexer": "ipython3",
   "version": "3.8.8"
  },
  "orig_nbformat": 4
 },
 "nbformat": 4,
 "nbformat_minor": 2
}
