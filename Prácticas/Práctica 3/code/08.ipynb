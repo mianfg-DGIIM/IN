{
 "cells": [
  {
   "cell_type": "markdown",
   "metadata": {},
   "source": [
    "# Intento 8\n",
    "\n",
    "| Score | Estimación _holdout_ | Timestamp |\n",
    "| --- | --- | --- |\n",
    "| **0.8626** | 0.8699 | 2022-01-03 12:16:33 UTC |\n",
    "\n",
    "- Partir del modelo obtenido en el intento 6.\n",
    "- Cambiar estrategia de preprocesado."
   ]
  },
  {
   "cell_type": "code",
   "execution_count": 1,
   "metadata": {},
   "outputs": [],
   "source": [
    "import pandas as pd\n",
    "import numpy as np\n",
    "import time\n",
    "from itertools import product\n",
    "from sklearn.model_selection import KFold, train_test_split\n",
    "from sklearn.metrics import roc_auc_score\n",
    "from sklearn.multioutput import MultiOutputClassifier\n",
    "from sklearn.preprocessing import LabelEncoder\n",
    "from sklearn.impute import SimpleImputer\n",
    "import lightgbm as lgb\n",
    "\n",
    "# código común\n",
    "import common.preprocessing as pre\n",
    "from common.vars import SEED\n",
    "\n",
    "# display all columns\n",
    "pd.options.display.max_columns = None"
   ]
  },
  {
   "cell_type": "code",
   "execution_count": 2,
   "metadata": {},
   "outputs": [],
   "source": [
    "train_features = pd.read_csv('../data/flu_training_set_features.csv', index_col='respondent_id')\n",
    "train_labels = pd.read_csv('../data/flu_training_set_labels.csv', index_col='respondent_id')\n",
    "test_features = pd.read_csv('../data/flu_test_set_features.csv', index_col='respondent_id')"
   ]
  },
  {
   "cell_type": "code",
   "execution_count": 14,
   "metadata": {},
   "outputs": [],
   "source": [
    "def preprocess(df_train, df_test, pre_onehot=True):\n",
    "  \"\"\"PREPROCESAMIENTO\n",
    "  \"\"\"\n",
    "  _df_train = df_train.copy()\n",
    "  _df_test = df_test.copy()\n",
    "  # antes de realizar one-hot encoding, eliminamos los valores perdidos de atributos categóricos\n",
    "  # lo haremos imputando a la clase mayoritaria (mode)\n",
    "  if pre_onehot:\n",
    "    attrs_imp = ['race', 'employment_status', 'census_msa', 'hhs_geo_region', 'employment_industry', 'employment_occupation']\n",
    "    _df_train = pre.impute(_df_train, strategy='mode', attrs=attrs_imp)\n",
    "    _df_test = pre.impute(_df_test, strategy='mode', attrs=attrs_imp)\n",
    "  \n",
    "  def trans(df):\n",
    "    df = pre.trans_onehot(df, 'race')\n",
    "    df = pre.trans_onehot(df, 'employment_status')\n",
    "    df = pre.trans_onehot(df, 'census_msa')\n",
    "    df = pre.trans_discretize(df, 'age_group', {\n",
    "      '18 - 34 Years':  1,\n",
    "      '35 - 44 Years':  2,\n",
    "      '45 - 54 Years':  3,\n",
    "      '55 - 64 Years':  4,\n",
    "      '65+ Years':      5\n",
    "    })\n",
    "    df = pre.trans_discretize(df, 'education', {\n",
    "      '< 12 Years':       1,\n",
    "      '12 Years':         2,\n",
    "      'Some College':     3,\n",
    "      'College Graduate': 4\n",
    "    })\n",
    "    df = pre.trans_discretize(df, 'sex', {\n",
    "      'Male':   0,\n",
    "      'Female': 1\n",
    "    })\n",
    "    df = pre.trans_discretize(df, 'income_poverty', {\n",
    "      'Below Poverty':              1,\n",
    "      '<= $75,000, Above Poverty':  2,\n",
    "      '> $75,000':                  3\n",
    "    })\n",
    "    df = pre.trans_discretize(df, 'marital_status', {\n",
    "      'Not Married':  0,\n",
    "      'Married':      1\n",
    "    })\n",
    "    df = pre.trans_discretize(df, 'rent_or_own', {\n",
    "      'Rent': 0,\n",
    "      'Own':  1\n",
    "    })\n",
    "    return df\n",
    "  _df_test = trans(_df_test)\n",
    "  _df_train = trans(_df_train)\n",
    "\n",
    "  # discretizamos estas columnas asignando un valor discreto cualquiera, secuencialmente\n",
    "  # (hacemos la labor de LabelEncoder para los atributos)\n",
    "  for attr in ['hhs_geo_region', 'employment_industry', 'employment_occupation']:\n",
    "    _df_train, discrete_dict = pre.trans_discretize(_df_train, attr)\n",
    "    # añadimos las mismas claves que df_train\n",
    "    _df_test = pre.trans_discretize(_df_test, attr, discrete_dict)\n",
    "  \n",
    "  # VALORES PERDIDOS\n",
    "  # del resto de atributos, imputamos la mediana (median)\n",
    "  _df_train = pre.impute(_df_train, strategy='median')\n",
    "  _df_test = pre.impute(_df_test, strategy='median')\n",
    "  \n",
    "  return _df_train, _df_test"
   ]
  },
  {
   "cell_type": "code",
   "execution_count": 15,
   "metadata": {},
   "outputs": [],
   "source": [
    "train_features, test_features = preprocess(train_features, test_features)"
   ]
  },
  {
   "cell_type": "code",
   "execution_count": 16,
   "metadata": {},
   "outputs": [],
   "source": [
    "kf = KFold(n_splits=5, shuffle=True, random_state=SEED)\n",
    "\n",
    "def cross_validation(model, X, y, cv):\n",
    "  measures = []\n",
    "  time_total_0 = time.time()\n",
    "\n",
    "  for train, test in cv.split(X, y):\n",
    "    X_train = X.iloc[train, :].values\n",
    "    X_test = X.iloc[test, :].values\n",
    "    y_train = y.iloc[train, :].values\n",
    "    y_test = y.iloc[test, :].values\n",
    "    time_iter_0 = time.time()\n",
    "    _model = model.fit(X_train, y_train)\n",
    "    time_iter = time.time() - time_iter_0\n",
    "    preds = _model.predict_proba(X_test)\n",
    "    y_preds = pd.DataFrame(\n",
    "      {\n",
    "        'h1n1_vaccine':     preds[0][:,1],\n",
    "        'seasonal_vaccine': preds[1][:,1],\n",
    "      },\n",
    "      index = y.iloc[test,:].index\n",
    "    )\n",
    "    measure = roc_auc_score(y_test, y_preds)\n",
    "    print(f\"[CV] AUC score: {measure:.4f}. Time: {time_iter:6.2f}\")\n",
    "    measures.append(measure)\n",
    "  \n",
    "  time_total = time.time() - time_total_0\n",
    "  print(f\"[CV] Average AUC: {np.mean(measures):.4f}. Total time: {time_total:6.2f}\")\n",
    "  return model, y_preds\n",
    "\n",
    "def preds_to_df(preds, features):\n",
    "  return pd.DataFrame(\n",
    "    {\n",
    "      'h1n1_vaccine': preds[0][:,1],\n",
    "      'seasonal_vaccine': preds[1][:,1]\n",
    "    },\n",
    "    index = features.index\n",
    "  )"
   ]
  },
  {
   "cell_type": "markdown",
   "metadata": {},
   "source": [
    "### _Holdout_ como proxy de ROC en test"
   ]
  },
  {
   "cell_type": "code",
   "execution_count": 17,
   "metadata": {},
   "outputs": [],
   "source": [
    "def holdout_proxy(model, X, y, test_size=0.2):\n",
    "  # split train features in two\n",
    "  X_train, X_test, y_train, y_test = train_test_split(X, y, test_size=test_size, random_state=SEED)\n",
    "\n",
    "  model_cvd, _ = cross_validation(model, X_train, y_train, kf)\n",
    "\n",
    "  # aprendemos con todos los ejemplos\n",
    "  model_cvd = model_cvd.fit(X_train, y_train)\n",
    "  # aplicamos probabilidad\n",
    "  preds = model_cvd.predict_proba(X_test)\n",
    "\n",
    "  return roc_auc_score(y_test, preds_to_df(preds, X_test))"
   ]
  },
  {
   "cell_type": "code",
   "execution_count": 18,
   "metadata": {},
   "outputs": [],
   "source": [
    "# split train features in two\n",
    "X_train, X_test, y_train, y_test = train_test_split(train_features, train_labels, test_size=0.2, random_state=SEED)"
   ]
  },
  {
   "cell_type": "code",
   "execution_count": 19,
   "metadata": {},
   "outputs": [
    {
     "name": "stdout",
     "output_type": "stream",
     "text": [
      "[CV] AUC score: 0.8688. Time:   1.14\n",
      "[CV] AUC score: 0.8689. Time:   1.25\n",
      "[CV] AUC score: 0.8603. Time:   1.16\n",
      "[CV] AUC score: 0.8553. Time:   1.15\n",
      "[CV] AUC score: 0.8735. Time:   1.22\n",
      "[CV] Average AUC: 0.8654. Total time:   6.30\n"
     ]
    }
   ],
   "source": [
    "# LightGBM\n",
    "lgbm = lgb.LGBMClassifier(objective='binary', n_estimators=200, colsample_bytree=0.5, learning_rate= 0.05, num_leaves=50)\n",
    "multi_lgbm = MultiOutputClassifier(lgbm)\n",
    "lgbm_cvd, y_preds_lgbm = cross_validation(multi_lgbm, X_train, y_train, kf)"
   ]
  },
  {
   "cell_type": "code",
   "execution_count": 20,
   "metadata": {},
   "outputs": [],
   "source": [
    "# aprendemos con todos los ejemplos\n",
    "lgbm_cvd = lgbm_cvd.fit(X_train, y_train)\n",
    "# aplicamos probabilidad\n",
    "lgbm_preds = lgbm_cvd.predict_proba(X_test)"
   ]
  },
  {
   "cell_type": "code",
   "execution_count": 21,
   "metadata": {},
   "outputs": [
    {
     "data": {
      "text/plain": [
       "0.869863706394876"
      ]
     },
     "execution_count": 21,
     "metadata": {},
     "output_type": "execute_result"
    }
   ],
   "source": [
    "roc_auc_score(y_test, preds_to_df(lgbm_preds, X_test))"
   ]
  },
  {
   "cell_type": "markdown",
   "metadata": {},
   "source": [
    "### Submission"
   ]
  },
  {
   "cell_type": "code",
   "execution_count": 22,
   "metadata": {},
   "outputs": [
    {
     "name": "stdout",
     "output_type": "stream",
     "text": [
      "[CV] AUC score: 0.8699. Time:   1.25\n",
      "[CV] AUC score: 0.8679. Time:   1.29\n",
      "[CV] AUC score: 0.8668. Time:   1.25\n",
      "[CV] AUC score: 0.8700. Time:   1.27\n",
      "[CV] AUC score: 0.8663. Time:   1.31\n",
      "[CV] Average AUC: 0.8682. Total time:   6.80\n"
     ]
    }
   ],
   "source": [
    "# LightGBM\n",
    "lgbm = lgb.LGBMClassifier(objective='binary', n_estimators=200, colsample_bytree=0.5, learning_rate= 0.05, num_leaves=50)\n",
    "multi_lgbm = MultiOutputClassifier(lgbm)\n",
    "lgbm_cvd, y_preds_lgbm = cross_validation(multi_lgbm, train_features, train_labels, kf)"
   ]
  },
  {
   "cell_type": "code",
   "execution_count": 23,
   "metadata": {},
   "outputs": [],
   "source": [
    "# aprendemos con todos los ejemplos\n",
    "lgbm_cvd = lgbm_cvd.fit(train_features, train_labels)\n",
    "# aplicamos probabilidad\n",
    "lgbm_preds = lgbm_cvd.predict_proba(test_features)"
   ]
  },
  {
   "cell_type": "code",
   "execution_count": 24,
   "metadata": {},
   "outputs": [],
   "source": [
    "preds_to_df(lgbm_preds, test_features).to_csv('../submissions/08.csv')"
   ]
  }
 ],
 "metadata": {
  "interpreter": {
   "hash": "03469d2279380861effdb539faa94366dad91bf8bac57f21af88f53ab829405b"
  },
  "kernelspec": {
   "display_name": "Python 3.8.8 64-bit ('base': conda)",
   "language": "python",
   "name": "python3"
  },
  "language_info": {
   "codemirror_mode": {
    "name": "ipython",
    "version": 3
   },
   "file_extension": ".py",
   "mimetype": "text/x-python",
   "name": "python",
   "nbconvert_exporter": "python",
   "pygments_lexer": "ipython3",
   "version": "3.8.8"
  },
  "orig_nbformat": 4
 },
 "nbformat": 4,
 "nbformat_minor": 2
}
