{
 "cells": [
  {
   "cell_type": "markdown",
   "metadata": {},
   "source": [
    "# Intento 14\n",
    "\n",
    "- Uso de `SMOTENC`."
   ]
  },
  {
   "cell_type": "code",
   "execution_count": 8,
   "metadata": {},
   "outputs": [],
   "source": [
    "import pandas as pd\n",
    "import numpy as np\n",
    "import time, re\n",
    "from sklearn.model_selection import StratifiedKFold, train_test_split\n",
    "from sklearn.metrics import roc_auc_score\n",
    "import lightgbm as lgb\n",
    "from imblearn.over_sampling import SMOTENC\n",
    "import pandas as pd\n",
    "from sklearn.model_selection import train_test_split, GridSearchCV, StratifiedKFold\n",
    "from sklearn.preprocessing import MinMaxScaler\n",
    "from imblearn.pipeline import Pipeline as imbpipeline\n",
    "\n",
    "# código común\n",
    "import common.preprocessing as pre\n",
    "from common.vars import SEED\n",
    "\n",
    "# display all columns\n",
    "pd.options.display.max_columns = None"
   ]
  },
  {
   "cell_type": "code",
   "execution_count": 2,
   "metadata": {},
   "outputs": [],
   "source": [
    "train_features = pd.read_csv('../data/flu_training_set_features.csv', index_col='respondent_id')\n",
    "train_labels = pd.read_csv('../data/flu_training_set_labels.csv', index_col='respondent_id')\n",
    "test_features = pd.read_csv('../data/flu_test_set_features.csv', index_col='respondent_id')"
   ]
  },
  {
   "cell_type": "code",
   "execution_count": 3,
   "metadata": {},
   "outputs": [],
   "source": [
    "def preprocess(df_train, df_test, pre_onehot=True):\n",
    "  \"\"\"PREPROCESAMIENTO\n",
    "  \"\"\"\n",
    "  _df_train = df_train.copy()\n",
    "  _df_test = df_test.copy()\n",
    "  # antes de realizar one-hot encoding, eliminamos los valores perdidos de atributos categóricos\n",
    "  # lo haremos imputando a la clase mayoritaria (mode)\n",
    "  if pre_onehot:\n",
    "    attrs_imp = ['race', 'employment_status', 'census_msa', 'hhs_geo_region', 'employment_industry', 'employment_occupation']\n",
    "    _df_train = pre.impute(_df_train, strategy='mode', attrs=attrs_imp)\n",
    "    _df_test = pre.impute(_df_test, strategy='mode', attrs=attrs_imp)\n",
    "  \n",
    "  def trans(df):\n",
    "    df = pre.trans_onehot(df, 'race')\n",
    "    df = pre.trans_onehot(df, 'employment_status')\n",
    "    df = pre.trans_onehot(df, 'census_msa')\n",
    "    df = pre.trans_discretize(df, 'age_group', {\n",
    "      '18 - 34 Years':  1,\n",
    "      '35 - 44 Years':  2,\n",
    "      '45 - 54 Years':  3,\n",
    "      '55 - 64 Years':  4,\n",
    "      '65+ Years':      5\n",
    "    })\n",
    "    df = pre.trans_discretize(df, 'education', {\n",
    "      '< 12 Years':       1,\n",
    "      '12 Years':         2,\n",
    "      'Some College':     3,\n",
    "      'College Graduate': 4\n",
    "    })\n",
    "    df = pre.trans_discretize(df, 'sex', {\n",
    "      'Male':   0,\n",
    "      'Female': 1\n",
    "    })\n",
    "    df = pre.trans_discretize(df, 'income_poverty', {\n",
    "      'Below Poverty':              1,\n",
    "      '<= $75,000, Above Poverty':  2,\n",
    "      '> $75,000':                  3\n",
    "    })\n",
    "    df = pre.trans_discretize(df, 'marital_status', {\n",
    "      'Not Married':  0,\n",
    "      'Married':      1\n",
    "    })\n",
    "    df = pre.trans_discretize(df, 'rent_or_own', {\n",
    "      'Rent': 0,\n",
    "      'Own':  1\n",
    "    })\n",
    "    return df\n",
    "  _df_test = trans(_df_test)\n",
    "  _df_train = trans(_df_train)\n",
    "\n",
    "  # discretizamos estas columnas asignando un valor discreto cualquiera, secuencialmente\n",
    "  # (hacemos la labor de LabelEncoder para los atributos)\n",
    "  for attr in ['hhs_geo_region', 'employment_industry', 'employment_occupation']:\n",
    "    _df_train, discrete_dict = pre.trans_discretize(_df_train, attr)\n",
    "    # añadimos las mismas claves que df_train\n",
    "    _df_test = pre.trans_discretize(_df_test, attr, discrete_dict)\n",
    "  \n",
    "  # VALORES PERDIDOS\n",
    "  # del resto de atributos, imputamos la mediana (median)\n",
    "  _df_train = pre.impute(_df_train, strategy='median')\n",
    "  _df_test = pre.impute(_df_test, strategy='median')\n",
    "\n",
    "  _df_train = _df_train.rename(columns = lambda x:re.sub('[^A-Za-z0-9_]+', '', x))\n",
    "  _df_test = _df_test.rename(columns = lambda x:re.sub('[^A-Za-z0-9_]+', '', x))\n",
    "  \n",
    "  return _df_train, _df_test"
   ]
  },
  {
   "cell_type": "code",
   "execution_count": 4,
   "metadata": {},
   "outputs": [],
   "source": [
    "train_features, test_features = preprocess(train_features, test_features)"
   ]
  },
  {
   "cell_type": "markdown",
   "metadata": {},
   "source": [
    "### _Holdout_ como proxy de ROC en test"
   ]
  },
  {
   "cell_type": "code",
   "execution_count": 5,
   "metadata": {},
   "outputs": [],
   "source": [
    "# split train features in two\n",
    "X_train, X_test, y_train, y_test = train_test_split(train_features, train_labels, test_size=0.2, stratify=train_labels, random_state=SEED)"
   ]
  },
  {
   "cell_type": "code",
   "execution_count": 6,
   "metadata": {},
   "outputs": [],
   "source": [
    "def preds_to_df(preds, features):\n",
    "  return pd.DataFrame(\n",
    "    {\n",
    "      'h1n1_vaccine': preds[0][:,1],\n",
    "      'seasonal_vaccine': preds[1][:,1]\n",
    "    },\n",
    "    index = features.index\n",
    "  )"
   ]
  },
  {
   "cell_type": "code",
   "execution_count": 9,
   "metadata": {},
   "outputs": [
    {
     "name": "stdout",
     "output_type": "stream",
     "text": [
      "Fitting 5 folds for each of 8 candidates, totalling 40 fits\n",
      "[CV 1/5] END classifier__colsample_bytree=0.25, classifier__learning_rate=0.01, classifier__n_estimators=200, classifier__num_leaves=50; total time=   4.4s\n",
      "[CV 2/5] END classifier__colsample_bytree=0.25, classifier__learning_rate=0.01, classifier__n_estimators=200, classifier__num_leaves=50; total time=   3.4s\n",
      "[CV 3/5] END classifier__colsample_bytree=0.25, classifier__learning_rate=0.01, classifier__n_estimators=200, classifier__num_leaves=50; total time=   3.2s\n",
      "[CV 4/5] END classifier__colsample_bytree=0.25, classifier__learning_rate=0.01, classifier__n_estimators=200, classifier__num_leaves=50; total time=   3.6s\n",
      "[CV 5/5] END classifier__colsample_bytree=0.25, classifier__learning_rate=0.01, classifier__n_estimators=200, classifier__num_leaves=50; total time=   3.9s\n",
      "[CV 1/5] END classifier__colsample_bytree=0.25, classifier__learning_rate=0.01, classifier__n_estimators=200, classifier__num_leaves=75; total time=   5.3s\n",
      "[CV 2/5] END classifier__colsample_bytree=0.25, classifier__learning_rate=0.01, classifier__n_estimators=200, classifier__num_leaves=75; total time=   5.5s\n",
      "[CV 3/5] END classifier__colsample_bytree=0.25, classifier__learning_rate=0.01, classifier__n_estimators=200, classifier__num_leaves=75; total time=   5.6s\n",
      "[CV 4/5] END classifier__colsample_bytree=0.25, classifier__learning_rate=0.01, classifier__n_estimators=200, classifier__num_leaves=75; total time=   5.9s\n",
      "[CV 5/5] END classifier__colsample_bytree=0.25, classifier__learning_rate=0.01, classifier__n_estimators=200, classifier__num_leaves=75; total time=   6.4s\n",
      "[CV 1/5] END classifier__colsample_bytree=0.25, classifier__learning_rate=0.05, classifier__n_estimators=200, classifier__num_leaves=50; total time=   6.9s\n",
      "[CV 2/5] END classifier__colsample_bytree=0.25, classifier__learning_rate=0.05, classifier__n_estimators=200, classifier__num_leaves=50; total time=   5.0s\n",
      "[CV 3/5] END classifier__colsample_bytree=0.25, classifier__learning_rate=0.05, classifier__n_estimators=200, classifier__num_leaves=50; total time=   3.8s\n",
      "[CV 4/5] END classifier__colsample_bytree=0.25, classifier__learning_rate=0.05, classifier__n_estimators=200, classifier__num_leaves=50; total time=   3.7s\n",
      "[CV 5/5] END classifier__colsample_bytree=0.25, classifier__learning_rate=0.05, classifier__n_estimators=200, classifier__num_leaves=50; total time=   4.0s\n",
      "[CV 1/5] END classifier__colsample_bytree=0.25, classifier__learning_rate=0.05, classifier__n_estimators=200, classifier__num_leaves=75; total time=   4.1s\n",
      "[CV 2/5] END classifier__colsample_bytree=0.25, classifier__learning_rate=0.05, classifier__n_estimators=200, classifier__num_leaves=75; total time=   4.2s\n",
      "[CV 3/5] END classifier__colsample_bytree=0.25, classifier__learning_rate=0.05, classifier__n_estimators=200, classifier__num_leaves=75; total time=   4.1s\n",
      "[CV 4/5] END classifier__colsample_bytree=0.25, classifier__learning_rate=0.05, classifier__n_estimators=200, classifier__num_leaves=75; total time=   4.2s\n",
      "[CV 5/5] END classifier__colsample_bytree=0.25, classifier__learning_rate=0.05, classifier__n_estimators=200, classifier__num_leaves=75; total time=   4.1s\n",
      "[CV 1/5] END classifier__colsample_bytree=0.5, classifier__learning_rate=0.01, classifier__n_estimators=200, classifier__num_leaves=50; total time=   4.0s\n",
      "[CV 2/5] END classifier__colsample_bytree=0.5, classifier__learning_rate=0.01, classifier__n_estimators=200, classifier__num_leaves=50; total time=   4.0s\n",
      "[CV 3/5] END classifier__colsample_bytree=0.5, classifier__learning_rate=0.01, classifier__n_estimators=200, classifier__num_leaves=50; total time=   4.1s\n",
      "[CV 4/5] END classifier__colsample_bytree=0.5, classifier__learning_rate=0.01, classifier__n_estimators=200, classifier__num_leaves=50; total time=   4.2s\n",
      "[CV 5/5] END classifier__colsample_bytree=0.5, classifier__learning_rate=0.01, classifier__n_estimators=200, classifier__num_leaves=50; total time=   4.1s\n",
      "[CV 1/5] END classifier__colsample_bytree=0.5, classifier__learning_rate=0.01, classifier__n_estimators=200, classifier__num_leaves=75; total time=   4.6s\n",
      "[CV 2/5] END classifier__colsample_bytree=0.5, classifier__learning_rate=0.01, classifier__n_estimators=200, classifier__num_leaves=75; total time=   4.5s\n",
      "[CV 3/5] END classifier__colsample_bytree=0.5, classifier__learning_rate=0.01, classifier__n_estimators=200, classifier__num_leaves=75; total time=   4.5s\n",
      "[CV 4/5] END classifier__colsample_bytree=0.5, classifier__learning_rate=0.01, classifier__n_estimators=200, classifier__num_leaves=75; total time=   4.5s\n",
      "[CV 5/5] END classifier__colsample_bytree=0.5, classifier__learning_rate=0.01, classifier__n_estimators=200, classifier__num_leaves=75; total time=   4.6s\n",
      "[CV 1/5] END classifier__colsample_bytree=0.5, classifier__learning_rate=0.05, classifier__n_estimators=200, classifier__num_leaves=50; total time=   4.0s\n",
      "[CV 2/5] END classifier__colsample_bytree=0.5, classifier__learning_rate=0.05, classifier__n_estimators=200, classifier__num_leaves=50; total time=   4.0s\n",
      "[CV 3/5] END classifier__colsample_bytree=0.5, classifier__learning_rate=0.05, classifier__n_estimators=200, classifier__num_leaves=50; total time=   4.0s\n",
      "[CV 4/5] END classifier__colsample_bytree=0.5, classifier__learning_rate=0.05, classifier__n_estimators=200, classifier__num_leaves=50; total time=   3.9s\n",
      "[CV 5/5] END classifier__colsample_bytree=0.5, classifier__learning_rate=0.05, classifier__n_estimators=200, classifier__num_leaves=50; total time=   4.4s\n",
      "[CV 1/5] END classifier__colsample_bytree=0.5, classifier__learning_rate=0.05, classifier__n_estimators=200, classifier__num_leaves=75; total time=   4.5s\n",
      "[CV 2/5] END classifier__colsample_bytree=0.5, classifier__learning_rate=0.05, classifier__n_estimators=200, classifier__num_leaves=75; total time=   4.3s\n",
      "[CV 3/5] END classifier__colsample_bytree=0.5, classifier__learning_rate=0.05, classifier__n_estimators=200, classifier__num_leaves=75; total time=   4.4s\n",
      "[CV 4/5] END classifier__colsample_bytree=0.5, classifier__learning_rate=0.05, classifier__n_estimators=200, classifier__num_leaves=75; total time=   4.2s\n",
      "[CV 5/5] END classifier__colsample_bytree=0.5, classifier__learning_rate=0.05, classifier__n_estimators=200, classifier__num_leaves=75; total time=   4.3s\n"
     ]
    },
    {
     "data": {
      "text/plain": [
       "GridSearchCV(cv=StratifiedKFold(n_splits=5, random_state=123456, shuffle=True),\n",
       "             estimator=Pipeline(steps=[('smote',\n",
       "                                        SMOTENC(categorical_features=[27, 30,\n",
       "                                                                      31],\n",
       "                                                random_state=123456)),\n",
       "                                       ('scaler', MinMaxScaler()),\n",
       "                                       ('classifier',\n",
       "                                        LGBMClassifier(objective='binary'))]),\n",
       "             n_jobs=1,\n",
       "             param_grid={'classifier__colsample_bytree': [0.25, 0.5],\n",
       "                         'classifier__learning_rate': [0.01, 0.05],\n",
       "                         'classifier__n_estimators': [200],\n",
       "                         'classifier__num_leaves': [50, 75]},\n",
       "             scoring='roc_auc', verbose=4)"
      ]
     },
     "execution_count": 9,
     "metadata": {},
     "output_type": "execute_result"
    }
   ],
   "source": [
    "pipeline = imbpipeline(steps=[\n",
    "  ('smote', SMOTENC(categorical_features=[i for i, attr in enumerate(train_features.columns) if attr in ['hhs_geo_region', 'employment_industry', 'employment_occupation']], random_state=SEED)),\n",
    "  ('scaler', MinMaxScaler()),\n",
    "  ('classifier', lgb.LGBMClassifier(objective='binary'))# n_estimators=200, colsample_bytree=0.5, learning_rate= 0.05, num_leaves=50))\n",
    "])\n",
    "\n",
    "skfold = StratifiedKFold(n_splits=5, shuffle=True, random_state=SEED)\n",
    "param_grid = {'classifier__n_estimators':[200], 'classifier__colsample_bytree': [0.25, 0.5], 'classifier__learning_rate': [0.01, 0.05], 'classifier__num_leaves': [50, 75]}\n",
    "grid_search = {'h1n1_vaccine': GridSearchCV(estimator=pipeline,\n",
    "                          param_grid=param_grid,\n",
    "                          scoring='roc_auc',\n",
    "                          cv=skfold,\n",
    "                          n_jobs=1, verbose=4)}\n",
    "grid_search['h1n1_vaccine'].fit(X_train, y_train['h1n1_vaccine'])"
   ]
  },
  {
   "cell_type": "code",
   "execution_count": 10,
   "metadata": {},
   "outputs": [
    {
     "name": "stdout",
     "output_type": "stream",
     "text": [
      "Fitting 5 folds for each of 8 candidates, totalling 40 fits\n",
      "[CV 1/5] END classifier__colsample_bytree=0.25, classifier__learning_rate=0.01, classifier__n_estimators=200, classifier__num_leaves=50; total time=   7.6s\n",
      "[CV 2/5] END classifier__colsample_bytree=0.25, classifier__learning_rate=0.01, classifier__n_estimators=200, classifier__num_leaves=50; total time=   7.0s\n",
      "[CV 3/5] END classifier__colsample_bytree=0.25, classifier__learning_rate=0.01, classifier__n_estimators=200, classifier__num_leaves=50; total time=   7.2s\n",
      "[CV 4/5] END classifier__colsample_bytree=0.25, classifier__learning_rate=0.01, classifier__n_estimators=200, classifier__num_leaves=50; total time=   7.0s\n",
      "[CV 5/5] END classifier__colsample_bytree=0.25, classifier__learning_rate=0.01, classifier__n_estimators=200, classifier__num_leaves=50; total time=   7.2s\n",
      "[CV 1/5] END classifier__colsample_bytree=0.25, classifier__learning_rate=0.01, classifier__n_estimators=200, classifier__num_leaves=75; total time=   7.4s\n",
      "[CV 2/5] END classifier__colsample_bytree=0.25, classifier__learning_rate=0.01, classifier__n_estimators=200, classifier__num_leaves=75; total time=   7.4s\n",
      "[CV 3/5] END classifier__colsample_bytree=0.25, classifier__learning_rate=0.01, classifier__n_estimators=200, classifier__num_leaves=75; total time=   7.2s\n",
      "[CV 4/5] END classifier__colsample_bytree=0.25, classifier__learning_rate=0.01, classifier__n_estimators=200, classifier__num_leaves=75; total time=   7.4s\n",
      "[CV 5/5] END classifier__colsample_bytree=0.25, classifier__learning_rate=0.01, classifier__n_estimators=200, classifier__num_leaves=75; total time=   7.3s\n",
      "[CV 1/5] END classifier__colsample_bytree=0.25, classifier__learning_rate=0.05, classifier__n_estimators=200, classifier__num_leaves=50; total time=   6.9s\n",
      "[CV 2/5] END classifier__colsample_bytree=0.25, classifier__learning_rate=0.05, classifier__n_estimators=200, classifier__num_leaves=50; total time=   6.9s\n",
      "[CV 3/5] END classifier__colsample_bytree=0.25, classifier__learning_rate=0.05, classifier__n_estimators=200, classifier__num_leaves=50; total time=   6.9s\n",
      "[CV 4/5] END classifier__colsample_bytree=0.25, classifier__learning_rate=0.05, classifier__n_estimators=200, classifier__num_leaves=50; total time=   7.0s\n",
      "[CV 5/5] END classifier__colsample_bytree=0.25, classifier__learning_rate=0.05, classifier__n_estimators=200, classifier__num_leaves=50; total time=   6.8s\n",
      "[CV 1/5] END classifier__colsample_bytree=0.25, classifier__learning_rate=0.05, classifier__n_estimators=200, classifier__num_leaves=75; total time=   8.2s\n",
      "[CV 2/5] END classifier__colsample_bytree=0.25, classifier__learning_rate=0.05, classifier__n_estimators=200, classifier__num_leaves=75; total time=   7.5s\n",
      "[CV 3/5] END classifier__colsample_bytree=0.25, classifier__learning_rate=0.05, classifier__n_estimators=200, classifier__num_leaves=75; total time=   7.1s\n",
      "[CV 4/5] END classifier__colsample_bytree=0.25, classifier__learning_rate=0.05, classifier__n_estimators=200, classifier__num_leaves=75; total time=   7.3s\n",
      "[CV 5/5] END classifier__colsample_bytree=0.25, classifier__learning_rate=0.05, classifier__n_estimators=200, classifier__num_leaves=75; total time=   7.9s\n",
      "[CV 1/5] END classifier__colsample_bytree=0.5, classifier__learning_rate=0.01, classifier__n_estimators=200, classifier__num_leaves=50; total time=   7.2s\n",
      "[CV 2/5] END classifier__colsample_bytree=0.5, classifier__learning_rate=0.01, classifier__n_estimators=200, classifier__num_leaves=50; total time=   7.3s\n",
      "[CV 3/5] END classifier__colsample_bytree=0.5, classifier__learning_rate=0.01, classifier__n_estimators=200, classifier__num_leaves=50; total time=   7.2s\n",
      "[CV 4/5] END classifier__colsample_bytree=0.5, classifier__learning_rate=0.01, classifier__n_estimators=200, classifier__num_leaves=50; total time=   7.3s\n",
      "[CV 5/5] END classifier__colsample_bytree=0.5, classifier__learning_rate=0.01, classifier__n_estimators=200, classifier__num_leaves=50; total time=   7.3s\n",
      "[CV 1/5] END classifier__colsample_bytree=0.5, classifier__learning_rate=0.01, classifier__n_estimators=200, classifier__num_leaves=75; total time=   7.5s\n",
      "[CV 2/5] END classifier__colsample_bytree=0.5, classifier__learning_rate=0.01, classifier__n_estimators=200, classifier__num_leaves=75; total time=   7.6s\n",
      "[CV 3/5] END classifier__colsample_bytree=0.5, classifier__learning_rate=0.01, classifier__n_estimators=200, classifier__num_leaves=75; total time=   7.6s\n",
      "[CV 4/5] END classifier__colsample_bytree=0.5, classifier__learning_rate=0.01, classifier__n_estimators=200, classifier__num_leaves=75; total time=   7.7s\n",
      "[CV 5/5] END classifier__colsample_bytree=0.5, classifier__learning_rate=0.01, classifier__n_estimators=200, classifier__num_leaves=75; total time=   7.4s\n",
      "[CV 1/5] END classifier__colsample_bytree=0.5, classifier__learning_rate=0.05, classifier__n_estimators=200, classifier__num_leaves=50; total time=   7.0s\n",
      "[CV 2/5] END classifier__colsample_bytree=0.5, classifier__learning_rate=0.05, classifier__n_estimators=200, classifier__num_leaves=50; total time=   7.0s\n",
      "[CV 3/5] END classifier__colsample_bytree=0.5, classifier__learning_rate=0.05, classifier__n_estimators=200, classifier__num_leaves=50; total time=   9.3s\n",
      "[CV 4/5] END classifier__colsample_bytree=0.5, classifier__learning_rate=0.05, classifier__n_estimators=200, classifier__num_leaves=50; total time=   7.6s\n",
      "[CV 5/5] END classifier__colsample_bytree=0.5, classifier__learning_rate=0.05, classifier__n_estimators=200, classifier__num_leaves=50; total time=   7.2s\n",
      "[CV 1/5] END classifier__colsample_bytree=0.5, classifier__learning_rate=0.05, classifier__n_estimators=200, classifier__num_leaves=75; total time=   7.4s\n",
      "[CV 2/5] END classifier__colsample_bytree=0.5, classifier__learning_rate=0.05, classifier__n_estimators=200, classifier__num_leaves=75; total time=   8.1s\n",
      "[CV 3/5] END classifier__colsample_bytree=0.5, classifier__learning_rate=0.05, classifier__n_estimators=200, classifier__num_leaves=75; total time=  10.2s\n",
      "[CV 4/5] END classifier__colsample_bytree=0.5, classifier__learning_rate=0.05, classifier__n_estimators=200, classifier__num_leaves=75; total time=  11.1s\n",
      "[CV 5/5] END classifier__colsample_bytree=0.5, classifier__learning_rate=0.05, classifier__n_estimators=200, classifier__num_leaves=75; total time=  11.4s\n"
     ]
    },
    {
     "data": {
      "text/plain": [
       "GridSearchCV(cv=StratifiedKFold(n_splits=5, random_state=123456, shuffle=True),\n",
       "             estimator=Pipeline(steps=[('smote',\n",
       "                                        SMOTENC(categorical_features=[27, 30,\n",
       "                                                                      31],\n",
       "                                                random_state=123456)),\n",
       "                                       ('scaler', MinMaxScaler()),\n",
       "                                       ('classifier',\n",
       "                                        LGBMClassifier(objective='binary'))]),\n",
       "             n_jobs=1,\n",
       "             param_grid={'classifier__colsample_bytree': [0.25, 0.5],\n",
       "                         'classifier__learning_rate': [0.01, 0.05],\n",
       "                         'classifier__n_estimators': [200],\n",
       "                         'classifier__num_leaves': [50, 75]},\n",
       "             scoring='roc_auc', verbose=4)"
      ]
     },
     "execution_count": 10,
     "metadata": {},
     "output_type": "execute_result"
    }
   ],
   "source": [
    "pipeline = imbpipeline(steps=[\n",
    "  ('smote', SMOTENC(categorical_features=[i for i, attr in enumerate(train_features.columns) if attr in ['hhs_geo_region', 'employment_industry', 'employment_occupation']], random_state=SEED)),\n",
    "  ('scaler', MinMaxScaler()),\n",
    "  ('classifier', lgb.LGBMClassifier(objective='binary'))# n_estimators=200, colsample_bytree=0.5, learning_rate= 0.05, num_leaves=50))\n",
    "])\n",
    "\n",
    "skfold = StratifiedKFold(n_splits=5, shuffle=True, random_state=SEED)\n",
    "param_grid = {'classifier__n_estimators':[200], 'classifier__colsample_bytree': [0.25, 0.5], 'classifier__learning_rate': [0.01, 0.05], 'classifier__num_leaves': [50, 75]}\n",
    "grid_search['seasonal_vaccine'] = GridSearchCV(estimator=pipeline,\n",
    "                          param_grid=param_grid,\n",
    "                          scoring='roc_auc',\n",
    "                          cv=skfold,\n",
    "                          n_jobs=1, verbose=4)\n",
    "grid_search['seasonal_vaccine'].fit(X_train, y_train['seasonal_vaccine'])"
   ]
  },
  {
   "cell_type": "code",
   "execution_count": 11,
   "metadata": {},
   "outputs": [
    {
     "data": {
      "text/plain": [
       "Pipeline(steps=[('smote',\n",
       "                 SMOTENC(categorical_features=[27, 30, 31],\n",
       "                         random_state=123456)),\n",
       "                ('scaler', MinMaxScaler()),\n",
       "                ('classifier',\n",
       "                 LGBMClassifier(colsample_bytree=0.5, learning_rate=0.05,\n",
       "                                n_estimators=200, num_leaves=50,\n",
       "                                objective='binary'))])"
      ]
     },
     "execution_count": 11,
     "metadata": {},
     "output_type": "execute_result"
    }
   ],
   "source": [
    "grid_search['h1n1_vaccine'].best_estimator_"
   ]
  },
  {
   "cell_type": "code",
   "execution_count": 12,
   "metadata": {},
   "outputs": [
    {
     "data": {
      "text/plain": [
       "Pipeline(steps=[('smote',\n",
       "                 SMOTENC(categorical_features=[27, 30, 31],\n",
       "                         random_state=123456)),\n",
       "                ('scaler', MinMaxScaler()),\n",
       "                ('classifier',\n",
       "                 LGBMClassifier(colsample_bytree=0.5, learning_rate=0.05,\n",
       "                                n_estimators=200, num_leaves=50,\n",
       "                                objective='binary'))])"
      ]
     },
     "execution_count": 12,
     "metadata": {},
     "output_type": "execute_result"
    }
   ],
   "source": [
    "grid_search['seasonal_vaccine'].best_estimator_"
   ]
  },
  {
   "cell_type": "code",
   "execution_count": 13,
   "metadata": {},
   "outputs": [],
   "source": [
    "# aprendemos con todos los ejemplos\n",
    "h1n1_result_model = grid_search['h1n1_vaccine'].best_estimator_.fit(X_train, y_train['h1n1_vaccine'])\n",
    "# aplicamos probabilidad\n",
    "h1n1_preds = h1n1_result_model.predict_proba(X_test)"
   ]
  },
  {
   "cell_type": "code",
   "execution_count": 14,
   "metadata": {},
   "outputs": [],
   "source": [
    "# aprendemos con todos los ejemplos\n",
    "seasonal_result_model = grid_search['seasonal_vaccine'].best_estimator_.fit(X_train, y_train['seasonal_vaccine'])\n",
    "# aplicamos probabilidad\n",
    "seasonal_preds = seasonal_result_model.predict_proba(X_test)"
   ]
  },
  {
   "cell_type": "code",
   "execution_count": 15,
   "metadata": {},
   "outputs": [
    {
     "data": {
      "text/plain": [
       "0.8543942441488444"
      ]
     },
     "execution_count": 15,
     "metadata": {},
     "output_type": "execute_result"
    }
   ],
   "source": [
    "roc_auc_score(y_test, preds_to_df([h1n1_preds, seasonal_preds], X_test))"
   ]
  },
  {
   "cell_type": "markdown",
   "metadata": {},
   "source": [
    "### Submission"
   ]
  },
  {
   "cell_type": "code",
   "execution_count": 16,
   "metadata": {},
   "outputs": [],
   "source": [
    "# aprendemos con todos los ejemplos\n",
    "h1n1_result_model = grid_search['h1n1_vaccine'].best_estimator_.fit(train_features, train_labels['h1n1_vaccine'])\n",
    "# aplicamos probabilidad\n",
    "h1n1_preds = h1n1_result_model.predict_proba(test_features)"
   ]
  },
  {
   "cell_type": "code",
   "execution_count": 17,
   "metadata": {},
   "outputs": [],
   "source": [
    "# aprendemos con todos los ejemplos\n",
    "seasonal_result_model = grid_search['seasonal_vaccine'].best_estimator_.fit(train_features, train_labels['seasonal_vaccine'])\n",
    "# aplicamos probabilidad\n",
    "seasonal_preds = seasonal_result_model.predict_proba(test_features)"
   ]
  },
  {
   "cell_type": "code",
   "execution_count": 18,
   "metadata": {},
   "outputs": [],
   "source": [
    "preds_to_df([h1n1_preds, seasonal_preds], test_features).to_csv('../submissions/14.csv')"
   ]
  }
 ],
 "metadata": {
  "interpreter": {
   "hash": "03469d2279380861effdb539faa94366dad91bf8bac57f21af88f53ab829405b"
  },
  "kernelspec": {
   "display_name": "Python 3.8.8 64-bit ('base': conda)",
   "language": "python",
   "name": "python3"
  },
  "language_info": {
   "codemirror_mode": {
    "name": "ipython",
    "version": 3
   },
   "file_extension": ".py",
   "mimetype": "text/x-python",
   "name": "python",
   "nbconvert_exporter": "python",
   "pygments_lexer": "ipython3",
   "version": "3.8.8"
  },
  "orig_nbformat": 4
 },
 "nbformat": 4,
 "nbformat_minor": 2
}
